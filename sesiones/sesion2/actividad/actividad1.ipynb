{
  "cells": [
    {
      "cell_type": "markdown",
      "metadata": {
        "id": "67sENSfyuyrj"
      },
      "source": [
        "# Parte 1\n",
        "\n",
        "1. Crear una matriz de producción ficticia para una empresa que fabrica 3 productos en 2 plantas\n",
        "2. Convertir la matriz en una tabla de datos\n",
        "3. Calcular la producción total por planta (suma por filas)\n",
        "4. Calcular la producción total por producto (suma por columnas)\n",
        "5. Agregar columnas mediante operaciones que muestren los siguientes atributos: producción total por planta y participación porcentual de cada planta en la producción.\n",
        "4. Calcular la proyección de una tercer planta que fabricará un 20% más de producto 1 , un 5% más de producto 2 y un 10% más de producto 3 que la primera planta  "
      ]
    },
    {
      "cell_type": "code",
      "execution_count": 1,
      "metadata": {
        "id": "gNk2PclKwbmb"
      },
      "outputs": [],
      "source": [
        "# Importaciones\n",
        "import numpy as np\n",
        "import pandas as pd"
      ]
    },
    {
      "cell_type": "code",
      "execution_count": 2,
      "metadata": {
        "colab": {
          "base_uri": "https://localhost:8080/"
        },
        "collapsed": true,
        "id": "0327fc45",
        "outputId": "00353dd4-8e29-460b-c862-4ca4038ac872"
      },
      "outputs": [
        {
          "name": "stdout",
          "output_type": "stream",
          "text": [
            "Producción de la Planta 1:\n",
            "[100 150 120]\n",
            "\n",
            "Producción de la Planta 2:\n",
            "[200 180 250]\n",
            "\n",
            "Matriz de producción:\n",
            "[[100 150 120]\n",
            " [200 180 250]]\n"
          ]
        }
      ],
      "source": [
        "# 1.-Crear una matriz de producción ficticia para una empresa que fabrica 3 productos en 2 plantas\n",
        "# Crear arrays para cada planta\n",
        "planta1_produccion = np.array([100, 150, 120])\n",
        "planta2_produccion = np.array([200, 180, 250])\n",
        "\n",
        "print(\"Producción de la Planta 1:\")\n",
        "print(planta1_produccion)\n",
        "\n",
        "print(\"\\nProducción de la Planta 2:\")\n",
        "print(planta2_produccion)\n",
        "\n",
        "# Combinar los arrays en una matriz de producción\n",
        "produccion_matriz = np.array([planta1_produccion, planta2_produccion])\n",
        "\n",
        "print(\"\\nMatriz de producción:\")\n",
        "print(produccion_matriz)"
      ]
    },
    {
      "cell_type": "code",
      "execution_count": 3,
      "metadata": {
        "colab": {
          "base_uri": "https://localhost:8080/"
        },
        "id": "nleMhHhqzDDl",
        "outputId": "0c0c8a4e-9beb-472f-bb72-474bc7cfa088"
      },
      "outputs": [
        {
          "name": "stdout",
          "output_type": "stream",
          "text": [
            "          Producto 1  Producto 2  Producto 3\n",
            "Planta 1         100         150         120\n",
            "Planta 2         200         180         250\n"
          ]
        }
      ],
      "source": [
        "# 2.-Convertir la matriz en una tabla de datos\n",
        "df = pd.DataFrame(produccion_matriz, columns=['Producto 1', 'Producto 2', 'Producto 3'], index=['Planta 1', 'Planta 2'])\n",
        "print(df)"
      ]
    },
    {
      "cell_type": "code",
      "execution_count": 4,
      "metadata": {
        "colab": {
          "base_uri": "https://localhost:8080/"
        },
        "collapsed": true,
        "id": "bgWq_pVCz1hr",
        "outputId": "42f779c8-74e8-4ae4-8ed9-c68f53bd4d12"
      },
      "outputs": [
        {
          "name": "stdout",
          "output_type": "stream",
          "text": [
            "\n",
            "Producción total por planta:\n",
            "Planta 1    370\n",
            "Planta 2    630\n",
            "dtype: int64\n"
          ]
        }
      ],
      "source": [
        "# 3.-Calcular la producción total por planta (suma por filas)\n",
        "produccion_total_por_planta = df.sum(axis=1)\n",
        "print(\"\\nProducción total por planta:\")\n",
        "print(produccion_total_por_planta)"
      ]
    },
    {
      "cell_type": "code",
      "execution_count": 5,
      "metadata": {
        "colab": {
          "base_uri": "https://localhost:8080/"
        },
        "collapsed": true,
        "id": "IpdbKQ6ZzTYt",
        "outputId": "c16cc41b-ae5e-451f-ddb0-4d32e852eae9"
      },
      "outputs": [
        {
          "name": "stdout",
          "output_type": "stream",
          "text": [
            "\n",
            "Producción total por producto:\n",
            "Producto 1    300\n",
            "Producto 2    330\n",
            "Producto 3    370\n",
            "dtype: int64\n"
          ]
        }
      ],
      "source": [
        "# 4.-Calcular la producción total por producto (suma por columnas)\n",
        "produccion_total_por_producto = df.sum(axis=0)\n",
        "print(\"\\nProducción total por producto:\")\n",
        "print(produccion_total_por_producto)"
      ]
    },
    {
      "cell_type": "code",
      "execution_count": 6,
      "metadata": {
        "colab": {
          "base_uri": "https://localhost:8080/"
        },
        "id": "4Zczy1LD0hGP",
        "outputId": "48ee48e6-f676-4f7f-c9f6-cb2d0fcd863b"
      },
      "outputs": [
        {
          "name": "stdout",
          "output_type": "stream",
          "text": [
            "\n",
            "DataFrame con producción total y participación porcentual:\n",
            "          Producto 1  Producto 2  Producto 3  Producción Total por Planta  \\\n",
            "Planta 1         100         150         120                          370   \n",
            "Planta 2         200         180         250                          630   \n",
            "\n",
            "          Participación Porcentual  \n",
            "Planta 1                      37.0  \n",
            "Planta 2                      63.0  \n"
          ]
        }
      ],
      "source": [
        "# 5.-Agregar columnas mediante operaciones que muestren los siguientes atributos:\n",
        "# producción total por planta y\n",
        "# participación porcentual de cada planta en la producción\n",
        "\n",
        "# Agregar la columna de producción total por planta\n",
        "df['Producción Total por Planta'] = produccion_total_por_planta\n",
        "\n",
        "# Calcular la participación porcentual de cada planta\n",
        "produccion_total_general = produccion_total_por_planta.sum()\n",
        "df['Participación Porcentual'] = (produccion_total_por_planta / produccion_total_general) * 100\n",
        "\n",
        "print(\"\\nDataFrame con producción total y participación porcentual:\")\n",
        "print(df)"
      ]
    },
    {
      "cell_type": "code",
      "execution_count": 7,
      "metadata": {
        "colab": {
          "base_uri": "https://localhost:8080/"
        },
        "id": "WkX-nSuw1Rzy",
        "outputId": "83f01326-2b85-43b7-b82a-625118d3062a"
      },
      "outputs": [
        {
          "name": "stdout",
          "output_type": "stream",
          "text": [
            "\n",
            "Producción proyectada para la Planta 3:\n",
            "Producto 1    120.0\n",
            "Producto 2    157.5\n",
            "Producto 3    132.0\n",
            "Name: Planta 1, dtype: float64\n"
          ]
        }
      ],
      "source": [
        "# 6.-Calcular la proyección de una tercer planta que fabricará un 20% más de producto 1,\n",
        "# un 5% más de producto 2 y un 10% más de producto 3 que la primera planta\n",
        "\n",
        "# Obtener la producción de la Planta 1\n",
        "produccion_planta1 = df.loc['Planta 1', ['Producto 1', 'Producto 2', 'Producto 3']]\n",
        "\n",
        "# Calcular la producción proyectada para la Planta 3\n",
        "proyeccion_planta3 = produccion_planta1 * np.array([1.20, 1.05, 1.10])\n",
        "\n",
        "print(\"\\nProducción proyectada para la Planta 3:\")\n",
        "print(proyeccion_planta3)"
      ]
    }
  ],
  "metadata": {
    "colab": {
      "gpuType": "T4",
      "provenance": []
    },
    "kernelspec": {
      "display_name": "Python 3",
      "name": "python3"
    },
    "language_info": {
      "codemirror_mode": {
        "name": "ipython",
        "version": 3
      },
      "file_extension": ".py",
      "mimetype": "text/x-python",
      "name": "python",
      "nbconvert_exporter": "python",
      "pygments_lexer": "ipython3",
      "version": "3.12.3"
    }
  },
  "nbformat": 4,
  "nbformat_minor": 0
}
