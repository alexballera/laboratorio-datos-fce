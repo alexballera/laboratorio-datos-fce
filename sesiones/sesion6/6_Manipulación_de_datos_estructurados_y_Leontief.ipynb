{
  "cells": [
    {
      "cell_type": "markdown",
      "metadata": {
        "id": "u9m7MMDMi5Ro"
      },
      "source": [
        "**Laboratorio de métodos cuantitativos aplicados a la Gestión**\n",
        "\n",
        "---\n",
        "\n",
        "\n",
        "Clase 6- Manipulación de datos estrucutrados y Leontief"
      ]
    },
    {
      "cell_type": "markdown",
      "metadata": {
        "id": "w-wKCZS9k0wM"
      },
      "source": [
        "Vamos a resolver casos de aplicación a partir de lo que aprendimos en la clase 5"
      ]
    },
    {
      "cell_type": "code",
      "execution_count": 28,
      "metadata": {
        "id": "kf1yqweNhw-3"
      },
      "outputs": [],
      "source": [
        "#importamos las librerías que vamos a usar en esta ocasión\n",
        "import pandas as pd\n",
        "import numpy as np\n",
        "import matplotlib.pyplot as plt\n",
        "import seaborn as sn"
      ]
    },
    {
      "cell_type": "markdown",
      "metadata": {
        "id": "aG7_AnE5kvP9"
      },
      "source": [
        "# Ejercicio 1"
      ]
    },
    {
      "cell_type": "markdown",
      "metadata": {
        "id": "96wgMsHXnwlr"
      },
      "source": [
        "Una economía hipotética simple de dos industrias A y B está representada en la siguiente tabla  (los datos están dados en millones de pesos de productos). Determinar el valor del producto final para la economía si la demanda final cambia a  100 para A y a 200 para B:"
      ]
    },
    {
      "cell_type": "code",
      "execution_count": 29,
      "metadata": {
        "colab": {
          "base_uri": "https://localhost:8080/",
          "height": 125
        },
        "id": "dlaxApl2n8VE",
        "outputId": "ca872791-95e7-4c4a-8f4d-47f2e95d031c"
      },
      "outputs": [
        {
          "data": {
            "application/vnd.microsoft.datawrangler.viewer.v0+json": {
              "columns": [
                {
                  "name": "index",
                  "rawType": "object",
                  "type": "string"
                },
                {
                  "name": "A",
                  "rawType": "int64",
                  "type": "integer"
                },
                {
                  "name": "B",
                  "rawType": "int64",
                  "type": "integer"
                },
                {
                  "name": "DF",
                  "rawType": "int64",
                  "type": "integer"
                },
                {
                  "name": "PT",
                  "rawType": "int64",
                  "type": "integer"
                }
              ],
              "ref": "ce0f7673-b3aa-49ad-9444-d749327e4fb2",
              "rows": [
                [
                  "A",
                  "150",
                  "240",
                  "210",
                  "600"
                ],
                [
                  "B",
                  "200",
                  "120",
                  "160",
                  "480"
                ]
              ],
              "shape": {
                "columns": 4,
                "rows": 2
              }
            },
            "text/html": [
              "<div>\n",
              "<style scoped>\n",
              "    .dataframe tbody tr th:only-of-type {\n",
              "        vertical-align: middle;\n",
              "    }\n",
              "\n",
              "    .dataframe tbody tr th {\n",
              "        vertical-align: top;\n",
              "    }\n",
              "\n",
              "    .dataframe thead th {\n",
              "        text-align: right;\n",
              "    }\n",
              "</style>\n",
              "<table border=\"1\" class=\"dataframe\">\n",
              "  <thead>\n",
              "    <tr style=\"text-align: right;\">\n",
              "      <th></th>\n",
              "      <th>A</th>\n",
              "      <th>B</th>\n",
              "      <th>DF</th>\n",
              "      <th>PT</th>\n",
              "    </tr>\n",
              "  </thead>\n",
              "  <tbody>\n",
              "    <tr>\n",
              "      <th>A</th>\n",
              "      <td>150</td>\n",
              "      <td>240</td>\n",
              "      <td>210</td>\n",
              "      <td>600</td>\n",
              "    </tr>\n",
              "    <tr>\n",
              "      <th>B</th>\n",
              "      <td>200</td>\n",
              "      <td>120</td>\n",
              "      <td>160</td>\n",
              "      <td>480</td>\n",
              "    </tr>\n",
              "  </tbody>\n",
              "</table>\n",
              "</div>"
            ],
            "text/plain": [
              "     A    B   DF   PT\n",
              "A  150  240  210  600\n",
              "B  200  120  160  480"
            ]
          },
          "execution_count": 29,
          "metadata": {},
          "output_type": "execute_result"
        }
      ],
      "source": [
        "columnas=['A', 'B','DF','PT']\n",
        "filas=['A','B']\n",
        "TB= pd.DataFrame([[150,240,210,600],[200,120,160,480]],columns=columnas,index=filas)\n",
        "TB"
      ]
    },
    {
      "cell_type": "code",
      "execution_count": 30,
      "metadata": {
        "colab": {
          "base_uri": "https://localhost:8080/",
          "height": 175
        },
        "id": "b6Afmi9FEU7z",
        "outputId": "74a53b79-00aa-4694-cd51-bae1dfc22fb7"
      },
      "outputs": [
        {
          "data": {
            "application/vnd.microsoft.datawrangler.viewer.v0+json": {
              "columns": [
                {
                  "name": "index",
                  "rawType": "object",
                  "type": "string"
                },
                {
                  "name": "A",
                  "rawType": "float64",
                  "type": "float"
                },
                {
                  "name": "B",
                  "rawType": "float64",
                  "type": "float"
                },
                {
                  "name": "DF",
                  "rawType": "float64",
                  "type": "float"
                },
                {
                  "name": "PT",
                  "rawType": "float64",
                  "type": "float"
                }
              ],
              "ref": "bf0a01d0-15a2-44aa-b31e-86ae4449a7bb",
              "rows": [
                [
                  "A",
                  "150.0",
                  "240.0",
                  "210.0",
                  "600.0"
                ],
                [
                  "B",
                  "200.0",
                  "120.0",
                  "160.0",
                  "480.0"
                ],
                [
                  "PT",
                  "600.0",
                  "480.0",
                  null,
                  null
                ],
                [
                  "VA",
                  "250.0",
                  "120.0",
                  null,
                  null
                ]
              ],
              "shape": {
                "columns": 4,
                "rows": 4
              }
            },
            "text/html": [
              "<div>\n",
              "<style scoped>\n",
              "    .dataframe tbody tr th:only-of-type {\n",
              "        vertical-align: middle;\n",
              "    }\n",
              "\n",
              "    .dataframe tbody tr th {\n",
              "        vertical-align: top;\n",
              "    }\n",
              "\n",
              "    .dataframe thead th {\n",
              "        text-align: right;\n",
              "    }\n",
              "</style>\n",
              "<table border=\"1\" class=\"dataframe\">\n",
              "  <thead>\n",
              "    <tr style=\"text-align: right;\">\n",
              "      <th></th>\n",
              "      <th>A</th>\n",
              "      <th>B</th>\n",
              "      <th>DF</th>\n",
              "      <th>PT</th>\n",
              "    </tr>\n",
              "  </thead>\n",
              "  <tbody>\n",
              "    <tr>\n",
              "      <th>A</th>\n",
              "      <td>150.0</td>\n",
              "      <td>240.0</td>\n",
              "      <td>210.0</td>\n",
              "      <td>600.0</td>\n",
              "    </tr>\n",
              "    <tr>\n",
              "      <th>B</th>\n",
              "      <td>200.0</td>\n",
              "      <td>120.0</td>\n",
              "      <td>160.0</td>\n",
              "      <td>480.0</td>\n",
              "    </tr>\n",
              "    <tr>\n",
              "      <th>PT</th>\n",
              "      <td>600.0</td>\n",
              "      <td>480.0</td>\n",
              "      <td>NaN</td>\n",
              "      <td>NaN</td>\n",
              "    </tr>\n",
              "    <tr>\n",
              "      <th>VA</th>\n",
              "      <td>250.0</td>\n",
              "      <td>120.0</td>\n",
              "      <td>NaN</td>\n",
              "      <td>NaN</td>\n",
              "    </tr>\n",
              "  </tbody>\n",
              "</table>\n",
              "</div>"
            ],
            "text/plain": [
              "        A      B     DF     PT\n",
              "A   150.0  240.0  210.0  600.0\n",
              "B   200.0  120.0  160.0  480.0\n",
              "PT  600.0  480.0    NaN    NaN\n",
              "VA  250.0  120.0    NaN    NaN"
            ]
          },
          "execution_count": 30,
          "metadata": {},
          "output_type": "execute_result"
        }
      ],
      "source": [
        "# agregamos las filas faltantes\n",
        "TB.loc['PT'] = [600, 480, np.nan,np.nan]\n",
        "\n",
        "TB.loc['VA'] = TB.loc['PT'] - (TB.loc['A'] + TB.loc['B'])\n",
        "TB"
      ]
    },
    {
      "cell_type": "markdown",
      "metadata": {},
      "source": [
        "## ✅ Implementación del Modelo de Leontief\n",
        "\n",
        "### Conceptos Clave del Modelo Insumo-Producto\n",
        "\n",
        "El **modelo de Wassily Leontief** es una herramienta fundamental en el análisis económico que permite estudiar las interdependencias entre sectores productivos de una economía. Este modelo nos ayuda a entender cómo cambios en la demanda final de un sector afectan la producción total de toda la economía.\n",
        "\n",
        "### Componentes del Modelo:\n",
        "\n",
        "1. **Vector de Demanda Final (H)**: Representa la demanda externa de cada sector (consumo, inversión, exportaciones)\n",
        "2. **Matriz de Coeficientes Técnicos (A)**: Muestra cuánto necesita cada sector de insumos para producir una unidad\n",
        "3. **Matriz de Leontief (I - A)**: Captura los efectos directos e indirectos de la producción\n",
        "4. **Vector de Producción Total (X)**: Solución que incluye efectos multiplicadores\n",
        "\n",
        "### Fórmula Fundamental:\n",
        "**X = (I - A)⁻¹ × H**\n",
        "\n",
        "Donde:\n",
        "- **X** = Vector de producción total necesaria\n",
        "- **I** = Matriz identidad\n",
        "- **A** = Matriz de coeficientes técnicos\n",
        "- **H** = Vector de demanda final\n",
        "\n",
        "### Pasos de la Implementación:\n",
        "\n",
        "En el código siguiente implementaremos:\n",
        "\n",
        "1. **Definición del vector H**: Demanda final para sectores A (100) y B (200)\n",
        "2. **Cálculo de coeficientes técnicos**: División de cada fila por la producción total\n",
        "3. **Ajuste dimensional**: Eliminación de columnas no productivas\n",
        "4. **Matriz de Leontief**: Resta de coeficientes a la matriz identidad\n",
        "5. **Solución del sistema**: Aplicación de la inversa para obtener la producción total"
      ]
    },
    {
      "cell_type": "code",
      "execution_count": 31,
      "metadata": {
        "colab": {
          "base_uri": "https://localhost:8080/"
        },
        "id": "pcnPwaySGLm4",
        "outputId": "5e0ad150-e9d3-4ee9-88b2-0c1881a78080"
      },
      "outputs": [
        {
          "name": "stdout",
          "output_type": "stream",
          "text": [
            "(2, 4)\n"
          ]
        }
      ],
      "source": [
        "# Definimos el vector de demanda final H para una economía de 2 sectores\n",
        "H = np.array([100,    # Demanda final del sector A (consumo, inversión, exportaciones)\n",
        "              200])   # Demanda final del sector B (consumo, inversión, exportaciones)\n",
        "\n",
        "# Calculamos la matriz de coeficientes técnicos A\n",
        "# Cada elemento a_ij representa cuánto del sector i necesita el sector j para producir 1 unidad\n",
        "A = np.array([(TB.loc['A']/TB.loc['PT']),  # Coeficientes técnicos del sector A (insumos A/producción total)\n",
        "              (TB.loc['B']/TB.loc['PT'])])  # Coeficientes técnicos del sector B (insumos B/producción total)\n",
        "\n",
        "# Extraemos solo las columnas correspondientes a los sectores productivos (eliminamos demanda final)\n",
        "A_ = A[:, :-2]  # Eliminamos las 2 últimas columnas que no corresponden a sectores productivos\n",
        "\n",
        "# Verificamos las dimensiones de la matriz A para asegurar compatibilidad\n",
        "print(A.shape)  # Mostramos la forma de la matriz A original"
      ]
    },
    {
      "cell_type": "code",
      "execution_count": 32,
      "metadata": {},
      "outputs": [
        {
          "name": "stdout",
          "output_type": "stream",
          "text": [
            "La producción total se modifica en 442.1052631578947 para el sector A y en 463.1578947368421 para el sector B cuando la demanda final asciende a  100 y 200 respectivamente.\n"
          ]
        }
      ],
      "source": [
        "# Construimos la matriz de Leontief (I - A) donde I es la matriz identidad\n",
        "L = np.identity(2) - A_  # Matriz identidad 2x2 menos la matriz de coeficientes técnicos\n",
        "\n",
        "# Resolvemos el sistema X = (I - A)^(-1) * H para obtener la producción total\n",
        "X = np.dot(np.linalg.inv(L), H)  # Multiplicación matricial: inversa de Leontief por demanda final\n",
        "\n",
        "# Mostramos los resultados interpretados económicamente\n",
        "print('La producción total se modifica en', X[0], 'para el sector A y en', X[1], 'para el sector B cuando la demanda final asciende a ', H[0], 'y', H[1], 'respectivamente.')"
      ]
    },
    {
      "cell_type": "markdown",
      "metadata": {
        "id": "KpEbPcBfM2Jb"
      },
      "source": [
        "# Ejercicio 2"
      ]
    },
    {
      "cell_type": "markdown",
      "metadata": {
        "id": "srLUeQCTRZuI"
      },
      "source": [
        "▶ 🔔  Vamos a darle un enfoque organizacional a la MIP:"
      ]
    },
    {
      "cell_type": "markdown",
      "metadata": {
        "id": "93da31cc"
      },
      "source": [
        "\n",
        "Supongamos una empresa manufacturera con tres departamentos principales:\n",
        "\n",
        "1.  **Departamento A: Producción de Componentes:** Fabrica partes y piezas que se utilizan tanto internamente en el ensamblaje como para la venta a otras empresas.\n",
        "2.  **Departamento B: Ensamblaje de Productos Finales:** Utiliza los componentes producidos por el Departamento A y otros insumos externos para ensamblar el producto final de la empresa.\n",
        "3.  **Departamento C: Control de Calidad y Empaquetado:** Recibe los productos ensamblados del Departamento B, realiza inspecciones de calidad, y los empaqueta para su distribución y venta.\n",
        "En este caso, podemos considerar los departamentos A y B como las \"industrias\" en el modelo de Leontief.\n",
        "\n",
        "*   **Matriz Interna:** Esta matriz representaría cuánto de la producción de cada departamento es utilizada como insumo por el otro departamento.\n",
        "*   **Vector de Demanda Final:** Representaría la demanda externa de los productos de cada departamento.\n",
        "\n",
        "    *   Demanda de componentes del Departamento A por parte de clientes externos.\n",
        "    *   Demanda de productos finales empaquetados por el Departamento C por parte de los clientes de la empresa.\n",
        "\n",
        "*   **Vector de Producción Total:** Representaría el nivel total de producción necesario en cada departamento para satisfacer tanto la demanda interna (insumos para el otro departamento) como la demanda externa.\n",
        "\n"
      ]
    },
    {
      "cell_type": "markdown",
      "metadata": {
        "id": "lXNpw4wqxgNb"
      },
      "source": [
        "![img9.jpg](data:image/jpeg;base64,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)"
      ]
    },
    {
      "cell_type": "code",
      "execution_count": 33,
      "metadata": {
        "colab": {
          "base_uri": "https://localhost:8080/"
        },
        "id": "JCQ5dCJqqXEF",
        "outputId": "2f695d4a-0ae3-4da4-be18-30ab3c3beaf7"
      },
      "outputs": [
        {
          "name": "stdout",
          "output_type": "stream",
          "text": [
            "Tabla de datos inicial:\n",
            "       A       B       C      DF      PT\n",
            "A     0  100000  200000   60000  360000\n",
            "B  5000       0  250000       0  255000\n",
            "C     0       0       0  500000  500000 \n",
            "\n"
          ]
        }
      ],
      "source": [
        "#TABLA DE DATOS INICIAL\n",
        "tb = pd.DataFrame({\n",
        "    'A': [0, 5000, 0],\n",
        "    'B': [100000, 0, 0],\n",
        "    'C': [200000, 250000, 0],\n",
        "    'DF': [60000, 0, 500000],\n",
        "    'PT': [360000, 255000, 500000]\n",
        "}, index=['A','B','C'])\n",
        "\n",
        "print(\"Tabla de datos inicial:\\n\", tb, \"\\n\")\n"
      ]
    },
    {
      "cell_type": "code",
      "execution_count": 34,
      "metadata": {},
      "outputs": [
        {
          "name": "stdout",
          "output_type": "stream",
          "text": [
            "Submatriz B:\n",
            "       A       B       C\n",
            "A     0  100000  200000\n",
            "B  5000       0  250000\n",
            "C     0       0       0 \n",
            "\n",
            "Vector producción total por sector:\n",
            " A    360000\n",
            "B    255000\n",
            "C    500000\n",
            "Name: PT, dtype: int64 \n",
            "\n",
            "Matriz A:\n",
            "           A         B         C\n",
            "A  0.000000  0.277778  0.555556\n",
            "B  0.019608  0.000000  0.980392\n",
            "C  0.000000  0.000000  0.000000 \n",
            "\n"
          ]
        }
      ],
      "source": [
        "#MATRIZ A\n",
        "\n",
        "sectores = ['A','B','C']\n",
        "B = tb[sectores]        #submatriz B\n",
        "print(\"Submatriz B:\\n\", B, \"\\n\")\n",
        "\n",
        "x = tb['PT']            #vector producción total por sector\n",
        "print(\"Vector producción total por sector:\\n\", x, \"\\n\")\n",
        "\n",
        "A_tb = B.T.div(x).T     #divide cada columna por el PT de ese sector\n",
        "\n",
        "print(\"Matriz A:\\n\", A_tb, \"\\n\")"
      ]
    },
    {
      "cell_type": "markdown",
      "metadata": {
        "id": "gGNk8PJBjvJz"
      },
      "source": [
        "De pronto se incrementa la demanda final del departamento A a 90000 unidades. ¿Cómo varía la producción en la empresa?"
      ]
    },
    {
      "cell_type": "code",
      "execution_count": 35,
      "metadata": {
        "colab": {
          "base_uri": "https://localhost:8080/"
        },
        "id": "OOjSAnvakTcZ",
        "outputId": "6a8f0827-7075-4903-84ea-c06dd6c939a6"
      },
      "outputs": [
        {
          "data": {
            "text/plain": [
              "array([[1.00547645, 0.27929901, 0.83242059],\n",
              "       [0.01971522, 1.00547645, 0.99671413],\n",
              "       [0.        , 0.        , 1.        ]])"
            ]
          },
          "execution_count": 35,
          "metadata": {},
          "output_type": "execute_result"
        }
      ],
      "source": [
        "# MODELO ABIERTO DE LEONTIEF\n",
        "# Este modelo nos permite calcular los efectos multiplicadores en la economía\n",
        "# cuando cambia la demanda final de cualquier sector\n",
        "\n",
        "# Creamos la matriz identidad con las mismas dimensiones que la matriz de coeficientes técnicos\n",
        "I = np.identity(len(A_tb))  # Matriz identidad (I) de orden n x n donde n = número de sectores\n",
        "\n",
        "# Calculamos la inversa de Leontief: (I - A)^(-1)\n",
        "# Esta matriz captura todos los efectos directos e indirectos de la producción\n",
        "L = np.linalg.inv(I - A_tb)  # Inversa de (I - A_tb) = matriz de multiplicadores de Leontief\n",
        "\n",
        "# Mostramos la matriz de multiplicadores resultante\n",
        "L  # Cada elemento L[i,j] indica cuánto debe aumentar la producción del sector i cuando la demanda final del sector j aumenta en 1 unidad"
      ]
    },
    {
      "cell_type": "code",
      "execution_count": 36,
      "metadata": {},
      "outputs": [
        {
          "name": "stdout",
          "output_type": "stream",
          "text": [
            "[476538.88280394 499539.97809419 500000.        ]\n",
            "El departamento A modifica su cantidad producida de 360000 a 476538.882803943, el departamento B modifica su cantidad producida de 255000 a 499539.97809419496 y el C de 500000 a 500000.0\n"
          ]
        }
      ],
      "source": [
        "# Aplicación del modelo: cambio en demanda final del departamento A\n",
        "# Verificamos si la demanda final del sector A es igual a 90000 usando .iloc[] para evitar warnings\n",
        "tb['DF'].iloc[0] == 90000  # Acceso correcto por posición usando .iloc[]\n",
        "\n",
        "# Calculamos la nueva producción total usando la matriz de multiplicadores de Leontief\n",
        "X = np.dot(L, tb['DF'])  # Multiplicación matricial: L * vector de demanda final\n",
        "print(X)\n",
        "\n",
        "# Mostramos los resultados comparando producción anterior vs nueva usando .iloc[] para evitar warnings\n",
        "print(f'El departamento A modifica su cantidad producida de {x.iloc[0]} a {X[0]}, el departamento B modifica su cantidad producida de {x.iloc[1]} a {X[1]} y el C de {x.iloc[2]} a {X[2]}')"
      ]
    },
    {
      "cell_type": "markdown",
      "metadata": {
        "id": "GgDna7LGW4qv"
      },
      "source": [
        "# Ejercicio 3"
      ]
    },
    {
      "cell_type": "markdown",
      "metadata": {
        "id": "DaprTleEN69o"
      },
      "source": [
        "A partir de la siguiente tabla de ventas, crear una nueva columna que sea el producto de Precio Unitario y Cantidad Vendida y crear un gráfico de barras que muestre el total de ventas por lugar."
      ]
    },
    {
      "cell_type": "code",
      "execution_count": 37,
      "metadata": {
        "colab": {
          "base_uri": "https://localhost:8080/",
          "height": 423
        },
        "id": "myAdvFQkcCqg",
        "outputId": "8fcafa97-d7eb-4a78-d839-b3378540d5b7"
      },
      "outputs": [
        {
          "data": {
            "application/vnd.microsoft.datawrangler.viewer.v0+json": {
              "columns": [
                {
                  "name": "index",
                  "rawType": "int64",
                  "type": "integer"
                },
                {
                  "name": "Fecha",
                  "rawType": "object",
                  "type": "string"
                },
                {
                  "name": "Producto",
                  "rawType": "object",
                  "type": "string"
                },
                {
                  "name": "Vendedor",
                  "rawType": "object",
                  "type": "string"
                },
                {
                  "name": "Ciudad",
                  "rawType": "object",
                  "type": "string"
                },
                {
                  "name": "Cantidad",
                  "rawType": "int64",
                  "type": "integer"
                },
                {
                  "name": "Precio_Unitario",
                  "rawType": "int64",
                  "type": "integer"
                }
              ],
              "ref": "77fc5b57-ecf6-406e-bb1c-4a167da3f09c",
              "rows": [
                [
                  "0",
                  "2024-01-01",
                  "Monitor",
                  "Juan",
                  "Mendoza",
                  "6",
                  "23030"
                ],
                [
                  "1",
                  "2024-01-02",
                  "Notebook",
                  "LucÃ­a",
                  "La Plata",
                  "7",
                  "87838"
                ],
                [
                  "2",
                  "2024-01-03",
                  "Teclado",
                  "Juan",
                  "CÃ³rdoba",
                  "3",
                  "89717"
                ],
                [
                  "3",
                  "2024-01-04",
                  "Notebook",
                  "Juan",
                  "Mendoza",
                  "7",
                  "43638"
                ],
                [
                  "4",
                  "2024-01-05",
                  "Notebook",
                  "MarÃ­a",
                  "CÃ³rdoba",
                  "3",
                  "72067"
                ],
                [
                  "5",
                  "2024-01-06",
                  "Mouse",
                  "LucÃ­a",
                  "Rosario",
                  "2",
                  "123033"
                ],
                [
                  "6",
                  "2024-01-07",
                  "Teclado",
                  "LucÃ­a",
                  "Buenos Aires",
                  "4",
                  "110977"
                ],
                [
                  "7",
                  "2024-01-08",
                  "Teclado",
                  "MarÃ­a",
                  "Rosario",
                  "8",
                  "93869"
                ],
                [
                  "8",
                  "2024-01-09",
                  "Teclado",
                  "Pedro",
                  "Mendoza",
                  "9",
                  "110186"
                ],
                [
                  "9",
                  "2024-01-10",
                  "Notebook",
                  "Juan",
                  "CÃ³rdoba",
                  "7",
                  "39674"
                ],
                [
                  "10",
                  "2024-01-11",
                  "Monitor",
                  "SofÃ­a",
                  "CÃ³rdoba",
                  "1",
                  "51271"
                ],
                [
                  "11",
                  "2024-01-12",
                  "Teclado",
                  "Juan",
                  "La Plata",
                  "3",
                  "78688"
                ],
                [
                  "12",
                  "2024-01-13",
                  "Impresora",
                  "Juan",
                  "CÃ³rdoba",
                  "9",
                  "116076"
                ],
                [
                  "13",
                  "2024-01-14",
                  "Notebook",
                  "Pedro",
                  "La Plata",
                  "1",
                  "146339"
                ],
                [
                  "14",
                  "2024-01-15",
                  "Mouse",
                  "Juan",
                  "Buenos Aires",
                  "9",
                  "6062"
                ],
                [
                  "15",
                  "2024-01-16",
                  "Monitor",
                  "MarÃ­a",
                  "Mendoza",
                  "8",
                  "55448"
                ],
                [
                  "16",
                  "2024-01-17",
                  "Impresora",
                  "MarÃ­a",
                  "La Plata",
                  "1",
                  "100462"
                ],
                [
                  "17",
                  "2024-01-18",
                  "Impresora",
                  "LucÃ­a",
                  "Buenos Aires",
                  "6",
                  "142301"
                ],
                [
                  "18",
                  "2024-01-19",
                  "Mouse",
                  "SofÃ­a",
                  "CÃ³rdoba",
                  "5",
                  "52915"
                ],
                [
                  "19",
                  "2024-01-20",
                  "Monitor",
                  "Juan",
                  "CÃ³rdoba",
                  "6",
                  "9632"
                ],
                [
                  "20",
                  "2024-01-21",
                  "Notebook",
                  "Juan",
                  "Buenos Aires",
                  "5",
                  "109592"
                ],
                [
                  "21",
                  "2024-01-22",
                  "Auriculares",
                  "Pedro",
                  "CÃ³rdoba",
                  "6",
                  "139668"
                ],
                [
                  "22",
                  "2024-01-23",
                  "Monitor",
                  "MarÃ­a",
                  "Buenos Aires",
                  "5",
                  "114779"
                ],
                [
                  "23",
                  "2024-01-24",
                  "Mouse",
                  "SofÃ­a",
                  "La Plata",
                  "5",
                  "142240"
                ],
                [
                  "24",
                  "2024-01-25",
                  "Impresora",
                  "LucÃ­a",
                  "La Plata",
                  "4",
                  "113099"
                ],
                [
                  "25",
                  "2024-01-26",
                  "Notebook",
                  "MarÃ­a",
                  "Buenos Aires",
                  "3",
                  "12561"
                ],
                [
                  "26",
                  "2024-01-27",
                  "Monitor",
                  "LucÃ­a",
                  "La Plata",
                  "3",
                  "87152"
                ],
                [
                  "27",
                  "2024-01-28",
                  "Auriculares",
                  "Pedro",
                  "La Plata",
                  "4",
                  "130036"
                ],
                [
                  "28",
                  "2024-01-29",
                  "Auriculares",
                  "Pedro",
                  "La Plata",
                  "9",
                  "129049"
                ],
                [
                  "29",
                  "2024-01-30",
                  "Teclado",
                  "Juan",
                  "Rosario",
                  "2",
                  "31734"
                ],
                [
                  "30",
                  "2024-01-31",
                  "Teclado",
                  "SofÃ­a",
                  "Mendoza",
                  "9",
                  "142443"
                ],
                [
                  "31",
                  "2024-02-01",
                  "Mouse",
                  "LucÃ­a",
                  "CÃ³rdoba",
                  "1",
                  "31069"
                ],
                [
                  "32",
                  "2024-02-02",
                  "Monitor",
                  "MarÃ­a",
                  "Rosario",
                  "1",
                  "17910"
                ],
                [
                  "33",
                  "2024-02-03",
                  "Monitor",
                  "Pedro",
                  "La Plata",
                  "5",
                  "78479"
                ],
                [
                  "34",
                  "2024-02-04",
                  "Impresora",
                  "Juan",
                  "Buenos Aires",
                  "6",
                  "86264"
                ],
                [
                  "35",
                  "2024-02-05",
                  "Impresora",
                  "Juan",
                  "La Plata",
                  "6",
                  "28275"
                ],
                [
                  "36",
                  "2024-02-06",
                  "Impresora",
                  "LucÃ­a",
                  "Mendoza",
                  "3",
                  "77274"
                ],
                [
                  "37",
                  "2024-02-07",
                  "Teclado",
                  "Pedro",
                  "La Plata",
                  "7",
                  "105776"
                ],
                [
                  "38",
                  "2024-02-08",
                  "Monitor",
                  "SofÃ­a",
                  "Buenos Aires",
                  "9",
                  "53447"
                ],
                [
                  "39",
                  "2024-02-09",
                  "Monitor",
                  "Pedro",
                  "Mendoza",
                  "8",
                  "131394"
                ],
                [
                  "40",
                  "2024-02-10",
                  "Auriculares",
                  "LucÃ­a",
                  "La Plata",
                  "6",
                  "80703"
                ],
                [
                  "41",
                  "2024-02-11",
                  "Teclado",
                  "LucÃ­a",
                  "Mendoza",
                  "8",
                  "81090"
                ],
                [
                  "42",
                  "2024-02-12",
                  "Notebook",
                  "Pedro",
                  "CÃ³rdoba",
                  "5",
                  "22260"
                ],
                [
                  "43",
                  "2024-02-13",
                  "Teclado",
                  "LucÃ­a",
                  "CÃ³rdoba",
                  "8",
                  "117581"
                ],
                [
                  "44",
                  "2024-02-14",
                  "Notebook",
                  "Pedro",
                  "La Plata",
                  "4",
                  "8812"
                ],
                [
                  "45",
                  "2024-02-15",
                  "Auriculares",
                  "MarÃ­a",
                  "Mendoza",
                  "8",
                  "121148"
                ],
                [
                  "46",
                  "2024-02-16",
                  "Mouse",
                  "Pedro",
                  "Buenos Aires",
                  "2",
                  "121421"
                ],
                [
                  "47",
                  "2024-02-17",
                  "Monitor",
                  "Pedro",
                  "La Plata",
                  "5",
                  "6605"
                ],
                [
                  "48",
                  "2024-02-18",
                  "Auriculares",
                  "LucÃ­a",
                  "CÃ³rdoba",
                  "9",
                  "77303"
                ],
                [
                  "49",
                  "2024-02-19",
                  "Monitor",
                  "LucÃ­a",
                  "CÃ³rdoba",
                  "4",
                  "81125"
                ]
              ],
              "shape": {
                "columns": 6,
                "rows": 200
              }
            },
            "text/html": [
              "<div>\n",
              "<style scoped>\n",
              "    .dataframe tbody tr th:only-of-type {\n",
              "        vertical-align: middle;\n",
              "    }\n",
              "\n",
              "    .dataframe tbody tr th {\n",
              "        vertical-align: top;\n",
              "    }\n",
              "\n",
              "    .dataframe thead th {\n",
              "        text-align: right;\n",
              "    }\n",
              "</style>\n",
              "<table border=\"1\" class=\"dataframe\">\n",
              "  <thead>\n",
              "    <tr style=\"text-align: right;\">\n",
              "      <th></th>\n",
              "      <th>Fecha</th>\n",
              "      <th>Producto</th>\n",
              "      <th>Vendedor</th>\n",
              "      <th>Ciudad</th>\n",
              "      <th>Cantidad</th>\n",
              "      <th>Precio_Unitario</th>\n",
              "    </tr>\n",
              "  </thead>\n",
              "  <tbody>\n",
              "    <tr>\n",
              "      <th>0</th>\n",
              "      <td>2024-01-01</td>\n",
              "      <td>Monitor</td>\n",
              "      <td>Juan</td>\n",
              "      <td>Mendoza</td>\n",
              "      <td>6</td>\n",
              "      <td>23030</td>\n",
              "    </tr>\n",
              "    <tr>\n",
              "      <th>1</th>\n",
              "      <td>2024-01-02</td>\n",
              "      <td>Notebook</td>\n",
              "      <td>LucÃ­a</td>\n",
              "      <td>La Plata</td>\n",
              "      <td>7</td>\n",
              "      <td>87838</td>\n",
              "    </tr>\n",
              "    <tr>\n",
              "      <th>2</th>\n",
              "      <td>2024-01-03</td>\n",
              "      <td>Teclado</td>\n",
              "      <td>Juan</td>\n",
              "      <td>CÃ³rdoba</td>\n",
              "      <td>3</td>\n",
              "      <td>89717</td>\n",
              "    </tr>\n",
              "    <tr>\n",
              "      <th>3</th>\n",
              "      <td>2024-01-04</td>\n",
              "      <td>Notebook</td>\n",
              "      <td>Juan</td>\n",
              "      <td>Mendoza</td>\n",
              "      <td>7</td>\n",
              "      <td>43638</td>\n",
              "    </tr>\n",
              "    <tr>\n",
              "      <th>4</th>\n",
              "      <td>2024-01-05</td>\n",
              "      <td>Notebook</td>\n",
              "      <td>MarÃ­a</td>\n",
              "      <td>CÃ³rdoba</td>\n",
              "      <td>3</td>\n",
              "      <td>72067</td>\n",
              "    </tr>\n",
              "    <tr>\n",
              "      <th>...</th>\n",
              "      <td>...</td>\n",
              "      <td>...</td>\n",
              "      <td>...</td>\n",
              "      <td>...</td>\n",
              "      <td>...</td>\n",
              "      <td>...</td>\n",
              "    </tr>\n",
              "    <tr>\n",
              "      <th>195</th>\n",
              "      <td>2024-07-14</td>\n",
              "      <td>Teclado</td>\n",
              "      <td>SofÃ­a</td>\n",
              "      <td>Mendoza</td>\n",
              "      <td>2</td>\n",
              "      <td>136886</td>\n",
              "    </tr>\n",
              "    <tr>\n",
              "      <th>196</th>\n",
              "      <td>2024-07-15</td>\n",
              "      <td>Mouse</td>\n",
              "      <td>LucÃ­a</td>\n",
              "      <td>Mendoza</td>\n",
              "      <td>8</td>\n",
              "      <td>120033</td>\n",
              "    </tr>\n",
              "    <tr>\n",
              "      <th>197</th>\n",
              "      <td>2024-07-16</td>\n",
              "      <td>Monitor</td>\n",
              "      <td>SofÃ­a</td>\n",
              "      <td>Mendoza</td>\n",
              "      <td>3</td>\n",
              "      <td>81077</td>\n",
              "    </tr>\n",
              "    <tr>\n",
              "      <th>198</th>\n",
              "      <td>2024-07-17</td>\n",
              "      <td>Teclado</td>\n",
              "      <td>LucÃ­a</td>\n",
              "      <td>Rosario</td>\n",
              "      <td>7</td>\n",
              "      <td>95474</td>\n",
              "    </tr>\n",
              "    <tr>\n",
              "      <th>199</th>\n",
              "      <td>2024-07-18</td>\n",
              "      <td>Impresora</td>\n",
              "      <td>Pedro</td>\n",
              "      <td>La Plata</td>\n",
              "      <td>3</td>\n",
              "      <td>138515</td>\n",
              "    </tr>\n",
              "  </tbody>\n",
              "</table>\n",
              "<p>200 rows × 6 columns</p>\n",
              "</div>"
            ],
            "text/plain": [
              "          Fecha   Producto Vendedor    Ciudad  Cantidad  Precio_Unitario\n",
              "0    2024-01-01    Monitor     Juan   Mendoza         6            23030\n",
              "1    2024-01-02   Notebook   LucÃ­a  La Plata         7            87838\n",
              "2    2024-01-03    Teclado     Juan  CÃ³rdoba         3            89717\n",
              "3    2024-01-04   Notebook     Juan   Mendoza         7            43638\n",
              "4    2024-01-05   Notebook   MarÃ­a  CÃ³rdoba         3            72067\n",
              "..          ...        ...      ...       ...       ...              ...\n",
              "195  2024-07-14    Teclado   SofÃ­a   Mendoza         2           136886\n",
              "196  2024-07-15      Mouse   LucÃ­a   Mendoza         8           120033\n",
              "197  2024-07-16    Monitor   SofÃ­a   Mendoza         3            81077\n",
              "198  2024-07-17    Teclado   LucÃ­a   Rosario         7            95474\n",
              "199  2024-07-18  Impresora    Pedro  La Plata         3           138515\n",
              "\n",
              "[200 rows x 6 columns]"
            ]
          },
          "execution_count": 37,
          "metadata": {},
          "output_type": "execute_result"
        }
      ],
      "source": [
        "vt = pd.read_csv(\"ventas.csv\")\n",
        "vt"
      ]
    },
    {
      "cell_type": "code",
      "execution_count": 38,
      "metadata": {
        "colab": {
          "base_uri": "https://localhost:8080/",
          "height": 487
        },
        "id": "9GKsMGhBN6Vn",
        "outputId": "56f8d265-c93e-4c71-85ab-9250c37a9735"
      },
      "outputs": [
        {
          "data": {
            "image/png": "[encoded data removed]",
            "text/plain": [
              "<Figure size 640x480 with 1 Axes>"
            ]
          },
          "metadata": {},
          "output_type": "display_data"
        }
      ],
      "source": [
        "#creamos la columna\n",
        "vt[\"TotalVenta\"] = vt[\"Precio_Unitario\"] * vt[\"Cantidad\"]\n",
        "\n",
        "#agrupamos por ciudad\n",
        "ventas_porciudad = vt.groupby(\"Ciudad\")[\"TotalVenta\"].sum()\n",
        "\n",
        "#graficamos\n",
        "ventas_porciudad.plot(kind=\"bar\", color=\"blue\")\n",
        "plt.title(\"Total de ventas por sucursal\")\n",
        "plt.ylabel(\"Ventas\")\n",
        "plt.xlabel(\"Ciudad\")\n",
        "plt.xticks(rotation=360)\n",
        "plt.tight_layout()\n",
        "#guardamos\n",
        "plt.savefig(\"grafico_ventas.png\")\n",
        "plt.show()\n"
      ]
    },
    {
      "cell_type": "markdown",
      "metadata": {
        "id": "L3F2YvaVJRkt"
      },
      "source": [
        "Crear un nuevo DataFrame a partir del anterior que solo contenga las ventas de monitores del primer trimestre de 2024. Luego, realizar un gráfico de barras para visualizar en qué ciudad se vendieron más monitores el último trimestre"
      ]
    },
    {
      "cell_type": "code",
      "execution_count": 39,
      "metadata": {
        "colab": {
          "base_uri": "https://localhost:8080/",
          "height": 739
        },
        "id": "i_30136nK-7Q",
        "outputId": "7e7dcdb6-4613-49d5-dc3a-bce39f70a305"
      },
      "outputs": [
        {
          "data": {
            "application/vnd.microsoft.datawrangler.viewer.v0+json": {
              "columns": [
                {
                  "name": "index",
                  "rawType": "int64",
                  "type": "integer"
                },
                {
                  "name": "Fecha",
                  "rawType": "datetime64[ns]",
                  "type": "datetime"
                },
                {
                  "name": "Producto",
                  "rawType": "object",
                  "type": "string"
                },
                {
                  "name": "Vendedor",
                  "rawType": "object",
                  "type": "string"
                },
                {
                  "name": "Ciudad",
                  "rawType": "object",
                  "type": "string"
                },
                {
                  "name": "Cantidad",
                  "rawType": "int64",
                  "type": "integer"
                },
                {
                  "name": "Precio_Unitario",
                  "rawType": "int64",
                  "type": "integer"
                },
                {
                  "name": "TotalVenta",
                  "rawType": "int64",
                  "type": "integer"
                }
              ],
              "ref": "2fc646dc-2a9b-4703-b612-dfc24eef8663",
              "rows": [
                [
                  "0",
                  "2024-01-01 00:00:00",
                  "Monitor",
                  "Juan",
                  "Mendoza",
                  "6",
                  "23030",
                  "138180"
                ],
                [
                  "10",
                  "2024-01-11 00:00:00",
                  "Monitor",
                  "SofÃ­a",
                  "CÃ³rdoba",
                  "1",
                  "51271",
                  "51271"
                ],
                [
                  "15",
                  "2024-01-16 00:00:00",
                  "Monitor",
                  "MarÃ­a",
                  "Mendoza",
                  "8",
                  "55448",
                  "443584"
                ],
                [
                  "19",
                  "2024-01-20 00:00:00",
                  "Monitor",
                  "Juan",
                  "CÃ³rdoba",
                  "6",
                  "9632",
                  "57792"
                ],
                [
                  "22",
                  "2024-01-23 00:00:00",
                  "Monitor",
                  "MarÃ­a",
                  "Buenos Aires",
                  "5",
                  "114779",
                  "573895"
                ],
                [
                  "26",
                  "2024-01-27 00:00:00",
                  "Monitor",
                  "LucÃ­a",
                  "La Plata",
                  "3",
                  "87152",
                  "261456"
                ],
                [
                  "32",
                  "2024-02-02 00:00:00",
                  "Monitor",
                  "MarÃ­a",
                  "Rosario",
                  "1",
                  "17910",
                  "17910"
                ],
                [
                  "33",
                  "2024-02-03 00:00:00",
                  "Monitor",
                  "Pedro",
                  "La Plata",
                  "5",
                  "78479",
                  "392395"
                ],
                [
                  "38",
                  "2024-02-08 00:00:00",
                  "Monitor",
                  "SofÃ­a",
                  "Buenos Aires",
                  "9",
                  "53447",
                  "481023"
                ],
                [
                  "39",
                  "2024-02-09 00:00:00",
                  "Monitor",
                  "Pedro",
                  "Mendoza",
                  "8",
                  "131394",
                  "1051152"
                ],
                [
                  "47",
                  "2024-02-17 00:00:00",
                  "Monitor",
                  "Pedro",
                  "La Plata",
                  "5",
                  "6605",
                  "33025"
                ],
                [
                  "49",
                  "2024-02-19 00:00:00",
                  "Monitor",
                  "LucÃ­a",
                  "CÃ³rdoba",
                  "4",
                  "81125",
                  "324500"
                ],
                [
                  "57",
                  "2024-02-27 00:00:00",
                  "Monitor",
                  "Juan",
                  "CÃ³rdoba",
                  "6",
                  "127177",
                  "763062"
                ],
                [
                  "58",
                  "2024-02-28 00:00:00",
                  "Monitor",
                  "MarÃ­a",
                  "Buenos Aires",
                  "2",
                  "46427",
                  "92854"
                ],
                [
                  "59",
                  "2024-02-29 00:00:00",
                  "Monitor",
                  "MarÃ­a",
                  "La Plata",
                  "3",
                  "127883",
                  "383649"
                ],
                [
                  "60",
                  "2024-03-01 00:00:00",
                  "Monitor",
                  "Pedro",
                  "La Plata",
                  "5",
                  "136189",
                  "680945"
                ],
                [
                  "65",
                  "2024-03-06 00:00:00",
                  "Monitor",
                  "LucÃ­a",
                  "Rosario",
                  "5",
                  "5846",
                  "29230"
                ],
                [
                  "67",
                  "2024-03-08 00:00:00",
                  "Monitor",
                  "MarÃ­a",
                  "Mendoza",
                  "8",
                  "84239",
                  "673912"
                ],
                [
                  "73",
                  "2024-03-14 00:00:00",
                  "Monitor",
                  "Juan",
                  "La Plata",
                  "5",
                  "69323",
                  "346615"
                ],
                [
                  "78",
                  "2024-03-19 00:00:00",
                  "Monitor",
                  "LucÃ­a",
                  "Rosario",
                  "2",
                  "83477",
                  "166954"
                ],
                [
                  "82",
                  "2024-03-23 00:00:00",
                  "Monitor",
                  "Juan",
                  "Rosario",
                  "5",
                  "25618",
                  "128090"
                ],
                [
                  "85",
                  "2024-03-26 00:00:00",
                  "Monitor",
                  "Pedro",
                  "La Plata",
                  "1",
                  "52362",
                  "52362"
                ]
              ],
              "shape": {
                "columns": 7,
                "rows": 22
              }
            },
            "text/html": [
              "<div>\n",
              "<style scoped>\n",
              "    .dataframe tbody tr th:only-of-type {\n",
              "        vertical-align: middle;\n",
              "    }\n",
              "\n",
              "    .dataframe tbody tr th {\n",
              "        vertical-align: top;\n",
              "    }\n",
              "\n",
              "    .dataframe thead th {\n",
              "        text-align: right;\n",
              "    }\n",
              "</style>\n",
              "<table border=\"1\" class=\"dataframe\">\n",
              "  <thead>\n",
              "    <tr style=\"text-align: right;\">\n",
              "      <th></th>\n",
              "      <th>Fecha</th>\n",
              "      <th>Producto</th>\n",
              "      <th>Vendedor</th>\n",
              "      <th>Ciudad</th>\n",
              "      <th>Cantidad</th>\n",
              "      <th>Precio_Unitario</th>\n",
              "      <th>TotalVenta</th>\n",
              "    </tr>\n",
              "  </thead>\n",
              "  <tbody>\n",
              "    <tr>\n",
              "      <th>0</th>\n",
              "      <td>2024-01-01</td>\n",
              "      <td>Monitor</td>\n",
              "      <td>Juan</td>\n",
              "      <td>Mendoza</td>\n",
              "      <td>6</td>\n",
              "      <td>23030</td>\n",
              "      <td>138180</td>\n",
              "    </tr>\n",
              "    <tr>\n",
              "      <th>10</th>\n",
              "      <td>2024-01-11</td>\n",
              "      <td>Monitor</td>\n",
              "      <td>SofÃ­a</td>\n",
              "      <td>CÃ³rdoba</td>\n",
              "      <td>1</td>\n",
              "      <td>51271</td>\n",
              "      <td>51271</td>\n",
              "    </tr>\n",
              "    <tr>\n",
              "      <th>15</th>\n",
              "      <td>2024-01-16</td>\n",
              "      <td>Monitor</td>\n",
              "      <td>MarÃ­a</td>\n",
              "      <td>Mendoza</td>\n",
              "      <td>8</td>\n",
              "      <td>55448</td>\n",
              "      <td>443584</td>\n",
              "    </tr>\n",
              "    <tr>\n",
              "      <th>19</th>\n",
              "      <td>2024-01-20</td>\n",
              "      <td>Monitor</td>\n",
              "      <td>Juan</td>\n",
              "      <td>CÃ³rdoba</td>\n",
              "      <td>6</td>\n",
              "      <td>9632</td>\n",
              "      <td>57792</td>\n",
              "    </tr>\n",
              "    <tr>\n",
              "      <th>22</th>\n",
              "      <td>2024-01-23</td>\n",
              "      <td>Monitor</td>\n",
              "      <td>MarÃ­a</td>\n",
              "      <td>Buenos Aires</td>\n",
              "      <td>5</td>\n",
              "      <td>114779</td>\n",
              "      <td>573895</td>\n",
              "    </tr>\n",
              "    <tr>\n",
              "      <th>26</th>\n",
              "      <td>2024-01-27</td>\n",
              "      <td>Monitor</td>\n",
              "      <td>LucÃ­a</td>\n",
              "      <td>La Plata</td>\n",
              "      <td>3</td>\n",
              "      <td>87152</td>\n",
              "      <td>261456</td>\n",
              "    </tr>\n",
              "    <tr>\n",
              "      <th>32</th>\n",
              "      <td>2024-02-02</td>\n",
              "      <td>Monitor</td>\n",
              "      <td>MarÃ­a</td>\n",
              "      <td>Rosario</td>\n",
              "      <td>1</td>\n",
              "      <td>17910</td>\n",
              "      <td>17910</td>\n",
              "    </tr>\n",
              "    <tr>\n",
              "      <th>33</th>\n",
              "      <td>2024-02-03</td>\n",
              "      <td>Monitor</td>\n",
              "      <td>Pedro</td>\n",
              "      <td>La Plata</td>\n",
              "      <td>5</td>\n",
              "      <td>78479</td>\n",
              "      <td>392395</td>\n",
              "    </tr>\n",
              "    <tr>\n",
              "      <th>38</th>\n",
              "      <td>2024-02-08</td>\n",
              "      <td>Monitor</td>\n",
              "      <td>SofÃ­a</td>\n",
              "      <td>Buenos Aires</td>\n",
              "      <td>9</td>\n",
              "      <td>53447</td>\n",
              "      <td>481023</td>\n",
              "    </tr>\n",
              "    <tr>\n",
              "      <th>39</th>\n",
              "      <td>2024-02-09</td>\n",
              "      <td>Monitor</td>\n",
              "      <td>Pedro</td>\n",
              "      <td>Mendoza</td>\n",
              "      <td>8</td>\n",
              "      <td>131394</td>\n",
              "      <td>1051152</td>\n",
              "    </tr>\n",
              "    <tr>\n",
              "      <th>47</th>\n",
              "      <td>2024-02-17</td>\n",
              "      <td>Monitor</td>\n",
              "      <td>Pedro</td>\n",
              "      <td>La Plata</td>\n",
              "      <td>5</td>\n",
              "      <td>6605</td>\n",
              "      <td>33025</td>\n",
              "    </tr>\n",
              "    <tr>\n",
              "      <th>49</th>\n",
              "      <td>2024-02-19</td>\n",
              "      <td>Monitor</td>\n",
              "      <td>LucÃ­a</td>\n",
              "      <td>CÃ³rdoba</td>\n",
              "      <td>4</td>\n",
              "      <td>81125</td>\n",
              "      <td>324500</td>\n",
              "    </tr>\n",
              "    <tr>\n",
              "      <th>57</th>\n",
              "      <td>2024-02-27</td>\n",
              "      <td>Monitor</td>\n",
              "      <td>Juan</td>\n",
              "      <td>CÃ³rdoba</td>\n",
              "      <td>6</td>\n",
              "      <td>127177</td>\n",
              "      <td>763062</td>\n",
              "    </tr>\n",
              "    <tr>\n",
              "      <th>58</th>\n",
              "      <td>2024-02-28</td>\n",
              "      <td>Monitor</td>\n",
              "      <td>MarÃ­a</td>\n",
              "      <td>Buenos Aires</td>\n",
              "      <td>2</td>\n",
              "      <td>46427</td>\n",
              "      <td>92854</td>\n",
              "    </tr>\n",
              "    <tr>\n",
              "      <th>59</th>\n",
              "      <td>2024-02-29</td>\n",
              "      <td>Monitor</td>\n",
              "      <td>MarÃ­a</td>\n",
              "      <td>La Plata</td>\n",
              "      <td>3</td>\n",
              "      <td>127883</td>\n",
              "      <td>383649</td>\n",
              "    </tr>\n",
              "    <tr>\n",
              "      <th>60</th>\n",
              "      <td>2024-03-01</td>\n",
              "      <td>Monitor</td>\n",
              "      <td>Pedro</td>\n",
              "      <td>La Plata</td>\n",
              "      <td>5</td>\n",
              "      <td>136189</td>\n",
              "      <td>680945</td>\n",
              "    </tr>\n",
              "    <tr>\n",
              "      <th>65</th>\n",
              "      <td>2024-03-06</td>\n",
              "      <td>Monitor</td>\n",
              "      <td>LucÃ­a</td>\n",
              "      <td>Rosario</td>\n",
              "      <td>5</td>\n",
              "      <td>5846</td>\n",
              "      <td>29230</td>\n",
              "    </tr>\n",
              "    <tr>\n",
              "      <th>67</th>\n",
              "      <td>2024-03-08</td>\n",
              "      <td>Monitor</td>\n",
              "      <td>MarÃ­a</td>\n",
              "      <td>Mendoza</td>\n",
              "      <td>8</td>\n",
              "      <td>84239</td>\n",
              "      <td>673912</td>\n",
              "    </tr>\n",
              "    <tr>\n",
              "      <th>73</th>\n",
              "      <td>2024-03-14</td>\n",
              "      <td>Monitor</td>\n",
              "      <td>Juan</td>\n",
              "      <td>La Plata</td>\n",
              "      <td>5</td>\n",
              "      <td>69323</td>\n",
              "      <td>346615</td>\n",
              "    </tr>\n",
              "    <tr>\n",
              "      <th>78</th>\n",
              "      <td>2024-03-19</td>\n",
              "      <td>Monitor</td>\n",
              "      <td>LucÃ­a</td>\n",
              "      <td>Rosario</td>\n",
              "      <td>2</td>\n",
              "      <td>83477</td>\n",
              "      <td>166954</td>\n",
              "    </tr>\n",
              "    <tr>\n",
              "      <th>82</th>\n",
              "      <td>2024-03-23</td>\n",
              "      <td>Monitor</td>\n",
              "      <td>Juan</td>\n",
              "      <td>Rosario</td>\n",
              "      <td>5</td>\n",
              "      <td>25618</td>\n",
              "      <td>128090</td>\n",
              "    </tr>\n",
              "    <tr>\n",
              "      <th>85</th>\n",
              "      <td>2024-03-26</td>\n",
              "      <td>Monitor</td>\n",
              "      <td>Pedro</td>\n",
              "      <td>La Plata</td>\n",
              "      <td>1</td>\n",
              "      <td>52362</td>\n",
              "      <td>52362</td>\n",
              "    </tr>\n",
              "  </tbody>\n",
              "</table>\n",
              "</div>"
            ],
            "text/plain": [
              "        Fecha Producto Vendedor        Ciudad  Cantidad  Precio_Unitario  \\\n",
              "0  2024-01-01  Monitor     Juan       Mendoza         6            23030   \n",
              "10 2024-01-11  Monitor   SofÃ­a      CÃ³rdoba         1            51271   \n",
              "15 2024-01-16  Monitor   MarÃ­a       Mendoza         8            55448   \n",
              "19 2024-01-20  Monitor     Juan      CÃ³rdoba         6             9632   \n",
              "22 2024-01-23  Monitor   MarÃ­a  Buenos Aires         5           114779   \n",
              "26 2024-01-27  Monitor   LucÃ­a      La Plata         3            87152   \n",
              "32 2024-02-02  Monitor   MarÃ­a       Rosario         1            17910   \n",
              "33 2024-02-03  Monitor    Pedro      La Plata         5            78479   \n",
              "38 2024-02-08  Monitor   SofÃ­a  Buenos Aires         9            53447   \n",
              "39 2024-02-09  Monitor    Pedro       Mendoza         8           131394   \n",
              "47 2024-02-17  Monitor    Pedro      La Plata         5             6605   \n",
              "49 2024-02-19  Monitor   LucÃ­a      CÃ³rdoba         4            81125   \n",
              "57 2024-02-27  Monitor     Juan      CÃ³rdoba         6           127177   \n",
              "58 2024-02-28  Monitor   MarÃ­a  Buenos Aires         2            46427   \n",
              "59 2024-02-29  Monitor   MarÃ­a      La Plata         3           127883   \n",
              "60 2024-03-01  Monitor    Pedro      La Plata         5           136189   \n",
              "65 2024-03-06  Monitor   LucÃ­a       Rosario         5             5846   \n",
              "67 2024-03-08  Monitor   MarÃ­a       Mendoza         8            84239   \n",
              "73 2024-03-14  Monitor     Juan      La Plata         5            69323   \n",
              "78 2024-03-19  Monitor   LucÃ­a       Rosario         2            83477   \n",
              "82 2024-03-23  Monitor     Juan       Rosario         5            25618   \n",
              "85 2024-03-26  Monitor    Pedro      La Plata         1            52362   \n",
              "\n",
              "    TotalVenta  \n",
              "0       138180  \n",
              "10       51271  \n",
              "15      443584  \n",
              "19       57792  \n",
              "22      573895  \n",
              "26      261456  \n",
              "32       17910  \n",
              "33      392395  \n",
              "38      481023  \n",
              "39     1051152  \n",
              "47       33025  \n",
              "49      324500  \n",
              "57      763062  \n",
              "58       92854  \n",
              "59      383649  \n",
              "60      680945  \n",
              "65       29230  \n",
              "67      673912  \n",
              "73      346615  \n",
              "78      166954  \n",
              "82      128090  \n",
              "85       52362  "
            ]
          },
          "execution_count": 39,
          "metadata": {},
          "output_type": "execute_result"
        }
      ],
      "source": [
        "#aseguramos que la columna Fecha sea de tipo datetime\n",
        "vt[\"Fecha\"] = pd.to_datetime(vt[\"Fecha\"])\n",
        "\n",
        "#filtramos\n",
        "ventas_monitores = vt[\n",
        "    (vt[\"Producto\"] == \"Monitor\") &\n",
        "    (vt[\"Fecha\"].dt.year == 2024) &\n",
        "    (vt[\"Fecha\"].dt.month <= 3)\n",
        "]\n",
        "#guardamos el nuevo DataFrame como CSV\n",
        "ventas_monitores.to_csv(\"ventas_monitores.csv\", index=False)\n",
        "ventas_monitores"
      ]
    },
    {
      "cell_type": "code",
      "execution_count": 40,
      "metadata": {
        "colab": {
          "base_uri": "https://localhost:8080/",
          "height": 487
        },
        "id": "3eZ2f3GDp7GW",
        "outputId": "00017655-6f51-41a9-a149-814ca05aabfb"
      },
      "outputs": [
        {
          "data": {
            "image/png": "[encoded data removed]",
            "text/plain": [
              "<Figure size 640x480 with 1 Axes>"
            ]
          },
          "metadata": {},
          "output_type": "display_data"
        }
      ],
      "source": [
        "vtas_monitoresporciudad=ventas_monitores.groupby(\"Ciudad\")[\"TotalVenta\"].sum()\n",
        "vtas_monitoresporciudad.plot(kind=\"bar\", color=[\"blue\", \"red\", \"green\", \"purple\", \"orange\"])\n",
        "plt.title(\"Total de ventas de monitores por ciudad 1T2024\")\n",
        "plt.ylabel(\"Ventas\")\n",
        "plt.xlabel(\"Ciudad\")\n",
        "plt.xticks(rotation=360)\n",
        "plt.tight_layout()"
      ]
    },
    {
      "cell_type": "markdown",
      "metadata": {
        "id": "F9qwbGUloStT"
      },
      "source": [
        "Suponga que la vendedora Lucía informa que había aumentado el precio de los monitores que vendió el 6 de Marzo de 2024. Modificar el precio en la base de datos a 10500."
      ]
    },
    {
      "cell_type": "code",
      "execution_count": 41,
      "metadata": {
        "colab": {
          "base_uri": "https://localhost:8080/",
          "height": 89
        },
        "id": "x5Z-4nQenPKp",
        "outputId": "1e50fb6a-21cb-47cb-9bcc-30489b362e49"
      },
      "outputs": [
        {
          "data": {
            "application/vnd.microsoft.datawrangler.viewer.v0+json": {
              "columns": [
                {
                  "name": "index",
                  "rawType": "int64",
                  "type": "integer"
                },
                {
                  "name": "Fecha",
                  "rawType": "datetime64[ns]",
                  "type": "datetime"
                },
                {
                  "name": "Producto",
                  "rawType": "object",
                  "type": "string"
                },
                {
                  "name": "Vendedor",
                  "rawType": "object",
                  "type": "string"
                },
                {
                  "name": "Ciudad",
                  "rawType": "object",
                  "type": "string"
                },
                {
                  "name": "Cantidad",
                  "rawType": "int64",
                  "type": "integer"
                },
                {
                  "name": "Precio_Unitario",
                  "rawType": "int64",
                  "type": "integer"
                },
                {
                  "name": "TotalVenta",
                  "rawType": "int64",
                  "type": "integer"
                }
              ],
              "ref": "ac9502be-9e2f-4e9d-bac4-18d719b1f6dd",
              "rows": [
                [
                  "65",
                  "2024-03-06 00:00:00",
                  "Monitor",
                  "LucÃ­a",
                  "Rosario",
                  "5",
                  "5846",
                  "29230"
                ]
              ],
              "shape": {
                "columns": 7,
                "rows": 1
              }
            },
            "text/html": [
              "<div>\n",
              "<style scoped>\n",
              "    .dataframe tbody tr th:only-of-type {\n",
              "        vertical-align: middle;\n",
              "    }\n",
              "\n",
              "    .dataframe tbody tr th {\n",
              "        vertical-align: top;\n",
              "    }\n",
              "\n",
              "    .dataframe thead th {\n",
              "        text-align: right;\n",
              "    }\n",
              "</style>\n",
              "<table border=\"1\" class=\"dataframe\">\n",
              "  <thead>\n",
              "    <tr style=\"text-align: right;\">\n",
              "      <th></th>\n",
              "      <th>Fecha</th>\n",
              "      <th>Producto</th>\n",
              "      <th>Vendedor</th>\n",
              "      <th>Ciudad</th>\n",
              "      <th>Cantidad</th>\n",
              "      <th>Precio_Unitario</th>\n",
              "      <th>TotalVenta</th>\n",
              "    </tr>\n",
              "  </thead>\n",
              "  <tbody>\n",
              "    <tr>\n",
              "      <th>65</th>\n",
              "      <td>2024-03-06</td>\n",
              "      <td>Monitor</td>\n",
              "      <td>LucÃ­a</td>\n",
              "      <td>Rosario</td>\n",
              "      <td>5</td>\n",
              "      <td>5846</td>\n",
              "      <td>29230</td>\n",
              "    </tr>\n",
              "  </tbody>\n",
              "</table>\n",
              "</div>"
            ],
            "text/plain": [
              "        Fecha Producto Vendedor   Ciudad  Cantidad  Precio_Unitario  \\\n",
              "65 2024-03-06  Monitor   LucÃ­a  Rosario         5             5846   \n",
              "\n",
              "    TotalVenta  \n",
              "65       29230  "
            ]
          },
          "execution_count": 41,
          "metadata": {},
          "output_type": "execute_result"
        }
      ],
      "source": [
        "#vamos de a poco: primero encontremos la fila\n",
        "filtro = (ventas_monitores['Fecha'] == '2024-03-06') & (ventas_monitores['Vendedor'] == 'LucÃ­a')\n",
        "\n",
        "venta_lucia = ventas_monitores[filtro]\n",
        "venta_lucia\n"
      ]
    },
    {
      "cell_type": "code",
      "execution_count": 42,
      "metadata": {
        "colab": {
          "base_uri": "https://localhost:8080/",
          "height": 81
        },
        "id": "rGBIp0MppMbf",
        "outputId": "170e6b96-953b-46dd-eb68-0367523b814f"
      },
      "outputs": [
        {
          "data": {
            "application/vnd.microsoft.datawrangler.viewer.v0+json": {
              "columns": [
                {
                  "name": "index",
                  "rawType": "int64",
                  "type": "integer"
                },
                {
                  "name": "Fecha",
                  "rawType": "datetime64[ns]",
                  "type": "datetime"
                },
                {
                  "name": "Producto",
                  "rawType": "object",
                  "type": "string"
                },
                {
                  "name": "Vendedor",
                  "rawType": "object",
                  "type": "string"
                },
                {
                  "name": "Ciudad",
                  "rawType": "object",
                  "type": "string"
                },
                {
                  "name": "Cantidad",
                  "rawType": "int64",
                  "type": "integer"
                },
                {
                  "name": "Precio_Unitario",
                  "rawType": "int64",
                  "type": "integer"
                },
                {
                  "name": "TotalVenta",
                  "rawType": "int64",
                  "type": "integer"
                }
              ],
              "ref": "61b9167e-15a0-46b1-bd25-165a8a477643",
              "rows": [
                [
                  "65",
                  "2024-03-06 00:00:00",
                  "Monitor",
                  "LucÃ­a",
                  "Rosario",
                  "5",
                  "10500",
                  "29230"
                ]
              ],
              "shape": {
                "columns": 7,
                "rows": 1
              }
            },
            "text/html": [
              "<div>\n",
              "<style scoped>\n",
              "    .dataframe tbody tr th:only-of-type {\n",
              "        vertical-align: middle;\n",
              "    }\n",
              "\n",
              "    .dataframe tbody tr th {\n",
              "        vertical-align: top;\n",
              "    }\n",
              "\n",
              "    .dataframe thead th {\n",
              "        text-align: right;\n",
              "    }\n",
              "</style>\n",
              "<table border=\"1\" class=\"dataframe\">\n",
              "  <thead>\n",
              "    <tr style=\"text-align: right;\">\n",
              "      <th></th>\n",
              "      <th>Fecha</th>\n",
              "      <th>Producto</th>\n",
              "      <th>Vendedor</th>\n",
              "      <th>Ciudad</th>\n",
              "      <th>Cantidad</th>\n",
              "      <th>Precio_Unitario</th>\n",
              "      <th>TotalVenta</th>\n",
              "    </tr>\n",
              "  </thead>\n",
              "  <tbody>\n",
              "    <tr>\n",
              "      <th>65</th>\n",
              "      <td>2024-03-06</td>\n",
              "      <td>Monitor</td>\n",
              "      <td>LucÃ­a</td>\n",
              "      <td>Rosario</td>\n",
              "      <td>5</td>\n",
              "      <td>10500</td>\n",
              "      <td>29230</td>\n",
              "    </tr>\n",
              "  </tbody>\n",
              "</table>\n",
              "</div>"
            ],
            "text/plain": [
              "        Fecha Producto Vendedor   Ciudad  Cantidad  Precio_Unitario  \\\n",
              "65 2024-03-06  Monitor   LucÃ­a  Rosario         5            10500   \n",
              "\n",
              "    TotalVenta  \n",
              "65       29230  "
            ]
          },
          "execution_count": 42,
          "metadata": {},
          "output_type": "execute_result"
        }
      ],
      "source": [
        "ventas_monitores.loc[65, 'Precio_Unitario'] = 10500  #cambia\n",
        "\n",
        "ventas_monitores[filtro] #noten que no se actualizó el Total"
      ]
    },
    {
      "cell_type": "code",
      "execution_count": 43,
      "metadata": {
        "colab": {
          "base_uri": "https://localhost:8080/",
          "height": 81
        },
        "id": "S0IcnkxVs_uT",
        "outputId": "d123a796-1c67-4a2d-cec4-7fed4a98a9e7"
      },
      "outputs": [
        {
          "data": {
            "application/vnd.microsoft.datawrangler.viewer.v0+json": {
              "columns": [
                {
                  "name": "index",
                  "rawType": "int64",
                  "type": "integer"
                },
                {
                  "name": "Fecha",
                  "rawType": "datetime64[ns]",
                  "type": "datetime"
                },
                {
                  "name": "Producto",
                  "rawType": "object",
                  "type": "string"
                },
                {
                  "name": "Vendedor",
                  "rawType": "object",
                  "type": "string"
                },
                {
                  "name": "Ciudad",
                  "rawType": "object",
                  "type": "string"
                },
                {
                  "name": "Cantidad",
                  "rawType": "int64",
                  "type": "integer"
                },
                {
                  "name": "Precio_Unitario",
                  "rawType": "int64",
                  "type": "integer"
                },
                {
                  "name": "TotalVenta",
                  "rawType": "int64",
                  "type": "integer"
                }
              ],
              "ref": "dd883cbf-9549-425f-a9c7-6b2009b1cb65",
              "rows": [
                [
                  "65",
                  "2024-03-06 00:00:00",
                  "Monitor",
                  "LucÃ­a",
                  "Rosario",
                  "5",
                  "10500",
                  "52500"
                ]
              ],
              "shape": {
                "columns": 7,
                "rows": 1
              }
            },
            "text/html": [
              "<div>\n",
              "<style scoped>\n",
              "    .dataframe tbody tr th:only-of-type {\n",
              "        vertical-align: middle;\n",
              "    }\n",
              "\n",
              "    .dataframe tbody tr th {\n",
              "        vertical-align: top;\n",
              "    }\n",
              "\n",
              "    .dataframe thead th {\n",
              "        text-align: right;\n",
              "    }\n",
              "</style>\n",
              "<table border=\"1\" class=\"dataframe\">\n",
              "  <thead>\n",
              "    <tr style=\"text-align: right;\">\n",
              "      <th></th>\n",
              "      <th>Fecha</th>\n",
              "      <th>Producto</th>\n",
              "      <th>Vendedor</th>\n",
              "      <th>Ciudad</th>\n",
              "      <th>Cantidad</th>\n",
              "      <th>Precio_Unitario</th>\n",
              "      <th>TotalVenta</th>\n",
              "    </tr>\n",
              "  </thead>\n",
              "  <tbody>\n",
              "    <tr>\n",
              "      <th>65</th>\n",
              "      <td>2024-03-06</td>\n",
              "      <td>Monitor</td>\n",
              "      <td>LucÃ­a</td>\n",
              "      <td>Rosario</td>\n",
              "      <td>5</td>\n",
              "      <td>10500</td>\n",
              "      <td>52500</td>\n",
              "    </tr>\n",
              "  </tbody>\n",
              "</table>\n",
              "</div>"
            ],
            "text/plain": [
              "        Fecha Producto Vendedor   Ciudad  Cantidad  Precio_Unitario  \\\n",
              "65 2024-03-06  Monitor   LucÃ­a  Rosario         5            10500   \n",
              "\n",
              "    TotalVenta  \n",
              "65       52500  "
            ]
          },
          "execution_count": 43,
          "metadata": {},
          "output_type": "execute_result"
        }
      ],
      "source": [
        "#recalculamos el total\n",
        "ventas_monitores.loc[filtro, 'TotalVenta'] = (\n",
        "    ventas_monitores.loc[filtro, 'Precio_Unitario'] *\n",
        "    ventas_monitores.loc[filtro, 'Cantidad'])\n",
        "ventas_monitores[filtro]"
      ]
    },
    {
      "cell_type": "markdown",
      "metadata": {
        "id": "xkvElDt2vMhl"
      },
      "source": [
        "Se desea evaluar el desempeño de la vendedora Sofía. Realizar un gráfico con la evolución de las cantidades de ventas a lo largo del tiempo."
      ]
    },
    {
      "cell_type": "code",
      "execution_count": 48,
      "metadata": {
        "colab": {
          "base_uri": "https://localhost:8080/",
          "height": 487
        },
        "id": "Ic30-YjlxD2p",
        "outputId": "12bc7bf6-18b0-4c4a-8217-014b9f9e15fe"
      },
      "outputs": [
        {
          "data": {
            "image/png": "[encoded data removed]",
            "text/plain": [
              "<Figure size 1000x500 with 1 Axes>"
            ]
          },
          "metadata": {},
          "output_type": "display_data"
        }
      ],
      "source": [
        "#filtramos las ventas de Sofía\n",
        "vt_sofia = vt[vt['Vendedor'] == 'SofÃ­a']\n",
        "\n",
        "#agrupamos por fecha y sumamos cantidades, especificamos por mes\n",
        "ventas_por_fecha = vt_sofia.groupby(vt_sofia['Fecha'].dt.to_period('M'))['Cantidad'].sum().reset_index()\n",
        "\n",
        "ventas_por_fecha['Fecha'] = ventas_por_fecha['Fecha'].astype(str) #antes nos había quedado como period, pasamos a string y se ven como \"YYYY-MM\" en el eje x\n",
        "\n",
        "#graficamos\n",
        "plt.figure(figsize=(10,5))\n",
        "plt.plot(ventas_por_fecha['Fecha'], ventas_por_fecha['Cantidad'],marker='o')\n",
        "plt.title('Evolución de las Ventas de Sofía')\n",
        "plt.xlabel('Fecha')\n",
        "plt.ylabel('Cantidad Vendida')\n",
        "plt.grid(True)\n"
      ]
    },
    {
      "cell_type": "markdown",
      "metadata": {
        "id": "Mwx2Y1kWaOck"
      },
      "source": [
        "# 🥇 ⚡ 🤓 Ejercicio 4"
      ]
    },
    {
      "cell_type": "markdown",
      "metadata": {
        "id": "_00Hs8M3HxzP"
      },
      "source": [
        "Suponga que usted es ayudante de Cátedra. El profesor titular le solicita que compare el rendimiento de los alumnos del segundo cuatrimestre de 2024 con el del primer cuatrimestre de 2025. Para eso, provee las planillas de calificaciones y condición final.\n",
        "Cacular, en cada caso:\n",
        "\n",
        "1.   Promedio de nota de cada parcial y de la nota final\n",
        "2.   Nota final mínima y máxima\n",
        "3.   Cantidad de alumnos que aprobaron la materia\n",
        "4.   Cantidad de alumnos que promocionaron la materia\n",
        "5.   Porcentaje de aprobación\n",
        "6.   Crear un DataFrame de comparación con las métricas anteriores para ambos cuatrimestres.\n",
        "\n",
        "\n"
      ]
    },
    {
      "cell_type": "code",
      "execution_count": 45,
      "metadata": {
        "id": "i3Yg1AqF_fL5"
      },
      "outputs": [],
      "source": [
        "notas_2024=pd.read_excel('notas_2024.xlsx')\n",
        "notas_2025=pd.read_excel('notas_2025.xlsx')\n"
      ]
    },
    {
      "cell_type": "code",
      "execution_count": 46,
      "metadata": {},
      "outputs": [
        {
          "name": "stderr",
          "output_type": "stream",
          "text": [
            "/tmp/ipykernel_480542/3739442420.py:4: FutureWarning: Downcasting behavior in `replace` is deprecated and will be removed in a future version. To retain the old behavior, explicitly call `result.infer_objects(copy=False)`. To opt-in to the future behavior, set `pd.set_option('future.no_silent_downcasting', True)`\n",
            "  df_numerico = df.replace(['A', 'Ausente', 'Insuficiente', 'Promociona', 'Final'], np.nan)\n"
          ]
        },
        {
          "data": {
            "application/vnd.microsoft.datawrangler.viewer.v0+json": {
              "columns": [
                {
                  "name": "index",
                  "rawType": "object",
                  "type": "string"
                },
                {
                  "name": "2024",
                  "rawType": "float64",
                  "type": "float"
                },
                {
                  "name": "2025",
                  "rawType": "float64",
                  "type": "float"
                }
              ],
              "ref": "cd2c0eb0-36dd-40eb-b448-9d394fd586e0",
              "rows": [
                [
                  "Promedio 1 Parcial",
                  "3.3492063492063493",
                  "3.0105263157894737"
                ],
                [
                  "Promedio 2 Parcial",
                  "3.78",
                  "4.267605633802817"
                ],
                [
                  "Promedio Nota Final",
                  "3.210526315789474",
                  "3.2"
                ],
                [
                  "Nota Final Mínima",
                  "2.0",
                  "1.0"
                ],
                [
                  "Nota Final Máxima",
                  "9.0",
                  "10.0"
                ],
                [
                  "Cantidad Aprobados",
                  "15.0",
                  "22.0"
                ],
                [
                  "Total de alumnos",
                  "81.0",
                  "127.0"
                ],
                [
                  "Cantidad Promocionados",
                  "8.0",
                  "14.0"
                ],
                [
                  "Porcentaje Aprobación",
                  "18.51851851851852",
                  "17.322834645669293"
                ]
              ],
              "shape": {
                "columns": 2,
                "rows": 9
              }
            },
            "text/html": [
              "<div>\n",
              "<style scoped>\n",
              "    .dataframe tbody tr th:only-of-type {\n",
              "        vertical-align: middle;\n",
              "    }\n",
              "\n",
              "    .dataframe tbody tr th {\n",
              "        vertical-align: top;\n",
              "    }\n",
              "\n",
              "    .dataframe thead th {\n",
              "        text-align: right;\n",
              "    }\n",
              "</style>\n",
              "<table border=\"1\" class=\"dataframe\">\n",
              "  <thead>\n",
              "    <tr style=\"text-align: right;\">\n",
              "      <th></th>\n",
              "      <th>2024</th>\n",
              "      <th>2025</th>\n",
              "    </tr>\n",
              "  </thead>\n",
              "  <tbody>\n",
              "    <tr>\n",
              "      <th>Promedio 1 Parcial</th>\n",
              "      <td>3.349206</td>\n",
              "      <td>3.010526</td>\n",
              "    </tr>\n",
              "    <tr>\n",
              "      <th>Promedio 2 Parcial</th>\n",
              "      <td>3.780000</td>\n",
              "      <td>4.267606</td>\n",
              "    </tr>\n",
              "    <tr>\n",
              "      <th>Promedio Nota Final</th>\n",
              "      <td>3.210526</td>\n",
              "      <td>3.200000</td>\n",
              "    </tr>\n",
              "    <tr>\n",
              "      <th>Nota Final Mínima</th>\n",
              "      <td>2.000000</td>\n",
              "      <td>1.000000</td>\n",
              "    </tr>\n",
              "    <tr>\n",
              "      <th>Nota Final Máxima</th>\n",
              "      <td>9.000000</td>\n",
              "      <td>10.000000</td>\n",
              "    </tr>\n",
              "    <tr>\n",
              "      <th>Cantidad Aprobados</th>\n",
              "      <td>15.000000</td>\n",
              "      <td>22.000000</td>\n",
              "    </tr>\n",
              "    <tr>\n",
              "      <th>Total de alumnos</th>\n",
              "      <td>81.000000</td>\n",
              "      <td>127.000000</td>\n",
              "    </tr>\n",
              "    <tr>\n",
              "      <th>Cantidad Promocionados</th>\n",
              "      <td>8.000000</td>\n",
              "      <td>14.000000</td>\n",
              "    </tr>\n",
              "    <tr>\n",
              "      <th>Porcentaje Aprobación</th>\n",
              "      <td>18.518519</td>\n",
              "      <td>17.322835</td>\n",
              "    </tr>\n",
              "  </tbody>\n",
              "</table>\n",
              "</div>"
            ],
            "text/plain": [
              "                             2024        2025\n",
              "Promedio 1 Parcial       3.349206    3.010526\n",
              "Promedio 2 Parcial       3.780000    4.267606\n",
              "Promedio Nota Final      3.210526    3.200000\n",
              "Nota Final Mínima        2.000000    1.000000\n",
              "Nota Final Máxima        9.000000   10.000000\n",
              "Cantidad Aprobados      15.000000   22.000000\n",
              "Total de alumnos        81.000000  127.000000\n",
              "Cantidad Promocionados   8.000000   14.000000\n",
              "Porcentaje Aprobación   18.518519   17.322835"
            ]
          },
          "execution_count": 46,
          "metadata": {},
          "output_type": "execute_result"
        }
      ],
      "source": [
        "#función para analizar cada planilla y devolver datos\n",
        "def analisis_notas(df, year):\n",
        "    #convertimos las celdas con texto\n",
        "    df_numerico = df.replace(['A', 'Ausente', 'Insuficiente', 'Promociona', 'Final'], np.nan)\n",
        "    df_numerico = df_numerico.apply(pd.to_numeric, errors='coerce')\n",
        "\n",
        "    #promedios notas\n",
        "    if year == \"2024\":\n",
        "        prom_1 = df_numerico['1 Parcial'].mean()\n",
        "        prom_2 = df_numerico['2 Parcial'].mean()\n",
        "    elif year == \"2025\":\n",
        "        prom_1 = df_numerico['1 parcial'].mean()\n",
        "        prom_2 = df_numerico['2 parcial'].mean()\n",
        "\n",
        "    prom_final = df_numerico['Nota final'].mean()\n",
        "\n",
        "    #nota mínima y máxima\n",
        "    nota_min = df_numerico['Nota final'].min()\n",
        "    nota_max = df_numerico['Nota final'].max()\n",
        "\n",
        "    #aprobados y promocionados\n",
        "    alumnos_totales = df.shape[0]\n",
        "    aprobados = df[df['Situación'].isin(['Promociona', 'Final'])].shape[0]\n",
        "    promocionados = df[df['Situación'] == 'Promociona'].shape[0]\n",
        "    porcentaje_aprobados = (aprobados / alumnos_totales) * 100\n",
        "\n",
        "    #devolvemos como diccionario\n",
        "    return {\n",
        "        'Promedio 1 Parcial': prom_1,\n",
        "        'Promedio 2 Parcial': prom_2,\n",
        "        'Promedio Nota Final': prom_final,\n",
        "        'Nota Final Mínima': nota_min,\n",
        "        'Nota Final Máxima': nota_max,\n",
        "        'Cantidad Aprobados': aprobados,\n",
        "        'Total de alumnos': alumnos_totales,\n",
        "        'Cantidad Promocionados': promocionados,\n",
        "        'Porcentaje Aprobación': porcentaje_aprobados\n",
        "    }\n",
        "\n",
        "result_2024 = analisis_notas(notas_2024, \"2024\")\n",
        "result_2025 = analisis_notas(notas_2025, \"2025\")\n",
        "\n",
        "#creamos DataFrame comparativo\n",
        "comparacion = pd.DataFrame({\n",
        "    '2024': result_2024,\n",
        "    '2025': result_2025\n",
        "})\n",
        "\n",
        "comparacion"
      ]
    },
    {
      "cell_type": "markdown",
      "metadata": {
        "id": "ECm3WkplSI70"
      },
      "source": [
        "Realice un gráfico de barras apiladas para ambos cuatrimestres, que muestre la proporción de promocionados, insuficientes y regularizados."
      ]
    },
    {
      "cell_type": "code",
      "execution_count": 47,
      "metadata": {
        "colab": {
          "base_uri": "https://localhost:8080/",
          "height": 582
        },
        "id": "Y-F3EwWNSXNM",
        "outputId": "76be59c1-8dc5-41ac-9fc1-be88735584da"
      },
      "outputs": [
        {
          "data": {
            "text/plain": [
              "<matplotlib.legend.Legend at 0x7da381494200>"
            ]
          },
          "execution_count": 47,
          "metadata": {},
          "output_type": "execute_result"
        },
        {
          "data": {
            "image/png": "[encoded data removed]",
            "text/plain": [
              "<Figure size 800x600 with 1 Axes>"
            ]
          },
          "metadata": {},
          "output_type": "display_data"
        }
      ],
      "source": [
        "insuficientes_2024 = result_2024['Total de alumnos'] - result_2024['Cantidad Aprobados']\n",
        "regulares_2024 = result_2024['Cantidad Aprobados'] - result_2024['Cantidad Promocionados']\n",
        "\n",
        "insuficientes_2025 = result_2025['Total de alumnos'] - result_2025['Cantidad Aprobados']\n",
        "regulares_2025 = result_2025['Cantidad Aprobados'] - result_2025['Cantidad Promocionados']\n",
        "\n",
        "#creamos el DataFrame con las proporciones\n",
        "proporciones = pd.DataFrame({\n",
        "    '2c2024': [result_2024['Cantidad Promocionados'] / result_2024['Total de alumnos'],\n",
        "             regulares_2024 / result_2024['Total de alumnos'],\n",
        "             insuficientes_2024 / result_2024['Total de alumnos']],\n",
        "    '1c2025': [result_2025['Cantidad Promocionados'] / result_2025['Total de alumnos'],\n",
        "             regulares_2025 / result_2025['Total de alumnos'],\n",
        "             insuficientes_2025 / result_2025['Total de alumnos']]\n",
        "}, index=['Promocionados', 'Regularizados', 'Insuficientes'])\n",
        "\n",
        "#graficamos\n",
        "proporciones.T.plot(kind='bar', stacked=True, figsize=(8, 6))\n",
        "plt.title('Proporción de alumnos proporcionados, insuficientes y regularizados en cada cuatrimestre')\n",
        "plt.xlabel('Cuatrimestre')\n",
        "plt.ylabel('Proporción')\n",
        "plt.xticks(rotation=0)\n",
        "plt.legend(title='Situación')"
      ]
    },
    {
      "cell_type": "markdown",
      "metadata": {
        "id": "rzsu72zDgO51"
      },
      "source": [
        "-Actividad propuesta: Los estudiantes conformarán grupos de 2 integrantes para su realización\n",
        "1. Elegir una de las bases de datos proporcionadas por el equipo docente\n",
        "2. Obtener todas las métricas que sean consideradas pertinentes para el análisis exhaustivo de la base\n",
        "3. Realizar gráficos que permitan visualizar aspectos de interés de la base\n",
        "4. Crear un nuevo DataFrame que muestre alguna comparación o resumen proveniente de la base\n",
        "5. Obtener conclusiones del trabajo realizado\n",
        "-Presentación de la Actividad y devoluciones\n"
      ]
    },
    {
      "cell_type": "markdown",
      "metadata": {
        "id": "sU0DiCvEPasq"
      },
      "source": [
        "Fuentes:\n",
        "\n",
        "Notas de álgebra teórico-prácticas: cátedra de Álgebra / Alicia Delia Fraquelli;Andrea Leonor Gache. - 1a ed. - Ciudad Autónoma de Buenos Aires: Universidad de Buenos Aires. Facultad de Ciencias Económicas, 2019.\n",
        "\n",
        "Hilpisch, Y. (2018). Python for Finance: Mastering Data-Driven Finance (2nd ed.). O’Reilly Media."
      ]
    }
  ],
  "metadata": {
    "colab": {
      "provenance": [],
      "toc_visible": true
    },
    "kernelspec": {
      "display_name": ".venv",
      "language": "python",
      "name": "python3"
    },
    "language_info": {
      "codemirror_mode": {
        "name": "ipython",
        "version": 3
      },
      "file_extension": ".py",
      "mimetype": "text/x-python",
      "name": "python",
      "nbconvert_exporter": "python",
      "pygments_lexer": "ipython3",
      "version": "3.12.3"
    }
  },
  "nbformat": 4,
  "nbformat_minor": 0
}
