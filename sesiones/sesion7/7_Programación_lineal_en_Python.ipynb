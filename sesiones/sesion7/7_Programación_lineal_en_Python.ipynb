{
  "cells": [
    {
      "cell_type": "markdown",
      "metadata": {
        "id": "u9m7MMDMi5Ro"
      },
      "source": [
        "**Laboratorio de métodos cuantitativos aplicados a la Gestión**\n",
        "\n",
        "---\n",
        "\n",
        "\n",
        "Clase 7- Programación lineal en Python"
      ]
    },
    {
      "cell_type": "markdown",
      "metadata": {
        "id": "l6gmHl2oLA2C"
      },
      "source": [
        "¿Qué vamos a poder hacer?\n",
        "\n",
        "🧮 Resolver problemas de optimización organizacional\n",
        "\n",
        "🧩 Formular modelos para objetivos empresariales e interpretar soluciones óptimas.\n"
      ]
    },
    {
      "cell_type": "code",
      "execution_count": 1,
      "metadata": {
        "colab": {
          "base_uri": "https://localhost:8080/"
        },
        "id": "oaJ4w7ZQ23bM",
        "outputId": "0ff83d3c-7581-4d01-f9cc-3409f1364770"
      },
      "outputs": [],
      "source": [
        "#importamos las librerías que vamos a usar en esta ocasión\n",
        "import numpy as np\n",
        "from scipy.optimize import linprog\n",
        "import matplotlib.pyplot as plt\n",
        "import pulp"
      ]
    },
    {
      "cell_type": "markdown",
      "metadata": {
        "id": "QqwRD7HRNNbW"
      },
      "source": [
        "**Repaso**:\n",
        "\n",
        "En cualquier empresa, muchas de las decisiones que se toman tienen por objeto hacer el mejor uso posible (optimización) de los recursos de la misma.\n",
        "🤔 Por recursos de una empresa entendemos la maquinaria que ésta posea, sus trabajadores, capital financiero, instalaciones y materias primas.  Tales recursos pueden ser usados para fabricar productos o servicios.\n",
        "\n",
        "**La Programación Lineal es un modelo matemático diseñado para ayudar en la planificación y toma de decisiones referentes a la asignación de los recursos.**\n",
        "\n",
        "▶ En cada problema de programación lineal se deben tomar decisiones de maximización o minimización de objetivos representados por funciones lineales, las cuales están sujetas a determinadas condiciones llamadas restricciones, que se representan a través de ecuaciones y/o desigualdades también lineales.\n",
        "\n",
        "Ejemplo: Si una compañía produce cuatro bienes diferentes, la dirección puede usar Programación Lineal para determinar las cantidades de recursos que asigna a la producción de cada uno de ellos (podría optar por hacer una asignación ponderada, dedicar todos los recursos a la producción de un único bien abandonando la producción del resto, etc.).  \n",
        "\n",
        "\n",
        "En el CBC aprendimos el método Simplex y también un método gráfico. Vamos a ver qué herramientas nos provee este lenguaje de programación para optimizar."
      ]
    },
    {
      "cell_type": "markdown",
      "metadata": {
        "id": "UyBxGLW34FI9"
      },
      "source": [
        "# Linprog"
      ]
    },
    {
      "cell_type": "markdown",
      "metadata": {
        "id": "XkH-sMj04VX5"
      },
      "source": [
        "▶La librería Scipy tiene la función Linprog que resuleve problemas de optimización."
      ]
    },
    {
      "cell_type": "markdown",
      "metadata": {
        "id": "lBYOqTiHk6L5"
      },
      "source": [
        "Supongamos que queremos minimizar la siguiente función: $2x_1+2x_2$ sujeta a $x_1=x_2/3$ y $x_1+x_2=20$"
      ]
    },
    {
      "cell_type": "markdown",
      "metadata": {},
      "source": [
        "### 📚 Cómo usar LinProg de SciPy - Ejemplo introductorio\n",
        "\n",
        "**LinProg** es la función de SciPy para resolver problemas de programación lineal. Sigue estos pasos:\n",
        "\n",
        "1. **🎯 Definir la función objetivo**: Los coeficientes en formato lista\n",
        "2. **📏 Establecer restricciones**: Matriz de coeficientes y vector de constantes\n",
        "3. **⚡ Resolver**: Llamar a `linprog()` con los parámetros\n",
        "4. **📊 Interpretar**: Analizar el objeto resultado\n",
        "\n",
        "**Recordatorio importante**: LinProg **siempre minimiza**, para maximizar usamos coeficientes negativos."
      ]
    },
    {
      "cell_type": "code",
      "execution_count": 2,
      "metadata": {
        "colab": {
          "base_uri": "https://localhost:8080/"
        },
        "id": "Env3JaBBk5pC",
        "outputId": "abcb23c3-6019-447a-e3d0-503b0da37483"
      },
      "outputs": [
        {
          "data": {
            "text/plain": [
              "       message: Optimization terminated successfully. (HiGHS Status 7: Optimal)\n",
              "       success: True\n",
              "        status: 0\n",
              "           fun: 0.0\n",
              "             x: [ 0.000e+00  0.000e+00]\n",
              "           nit: 0\n",
              "         lower:  residual: [ 0.000e+00  0.000e+00]\n",
              "                marginals: [ 2.000e+00  2.000e+00]\n",
              "         upper:  residual: [       inf        inf]\n",
              "                marginals: [ 0.000e+00  0.000e+00]\n",
              "         eqlin:  residual: []\n",
              "                marginals: []\n",
              "       ineqlin:  residual: [ 0.000e+00  2.000e+01]\n",
              "                marginals: [-0.000e+00 -0.000e+00]"
            ]
          },
          "execution_count": 2,
          "metadata": {},
          "output_type": "execute_result"
        }
      ],
      "source": [
        "# EJEMPLO INTRODUCTORIO: Minimizar 2x₁ + 2x₂ sujeto a restricciones\n",
        "\n",
        "# PASO 1: Definir los coeficientes de la función objetivo\n",
        "# La función objetivo es: 2x₁ + 2x₂ (queremos minimizar)\n",
        "# LinProg espera una lista con los coeficientes [coef_x1, coef_x2]\n",
        "c = [2, 2]  # Lista con coeficientes: 2 para x₁ y 2 para x₂\n",
        "\n",
        "# PASO 2: Definir la matriz de coeficientes de las restricciones\n",
        "# Restricción 1: x₁ = x₂/3  =>  x₁ - (1/3)x₂ = 0  =>  1*x₁ + (-1/3)*x₂ = 0\n",
        "# Restricción 2: x₁ + x₂ = 20  =>  1*x₁ + 1*x₂ = 20\n",
        "# Cada fila representa una restricción, cada columna una variable\n",
        "A = [[1, -1/3],    # Coeficientes de la primera restricción: [1, -1/3]\n",
        "     [1, 1]]       # Coeficientes de la segunda restricción: [1, 1]\n",
        "\n",
        "# PASO 3: Definir el vector de constantes (lado derecho de las restricciones)\n",
        "# b[0] = 0 corresponde a la primera restricción (x₁ - x₂/3 = 0)\n",
        "# b[1] = 20 corresponde a la segunda restricción (x₁ + x₂ = 20)\n",
        "b = [0, 20]  # Vector de términos independientes\n",
        "\n",
        "# PASO 4: Resolver el problema de optimización\n",
        "# linprog(c, A, b) busca el mínimo de c·x sujeto a A·x = b\n",
        "# El resultado se guarda en un objeto con múltiples atributos\n",
        "res = linprog(c, A, b)\n",
        "\n",
        "# PASO 5: Mostrar el resultado completo\n",
        "# res contiene: solución óptima (x), valor óptimo (fun), estado (success), etc.\n",
        "res"
      ]
    },
    {
      "cell_type": "markdown",
      "metadata": {
        "id": "ZwIMM9LH5Eqc"
      },
      "source": [
        "## Caso 1"
      ]
    },
    {
      "cell_type": "markdown",
      "metadata": {
        "id": "BDmZ1h3yOeBH"
      },
      "source": [
        "Una fábrica produce dos productos, $x_1$ y\n",
        "$𝑥_2$\n",
        "\n",
        "La empresa quiere maximizar la cantidad total producida, es decir:\n",
        "\n",
        "Maximizar\n",
        "$𝑍=𝑥_1+x_2$\n",
        "\n",
        "Sin embargo, enfrenta dos restricciones:\n",
        "\n",
        "Cada producto $x_1$\tconsume 2 horas de máquina A y cada producto $𝑥_2$ consume 1 hora de máquina A. Solo hay 100 horas disponibles de máquina A.\n",
        "\n",
        "Cada producto $𝑥_1$ consume 1 hora de máquina B y cada producto $x_2$ consume 1 hora de máquina B. Solo hay 80 horas disponibles de máquina B."
      ]
    },
    {
      "cell_type": "markdown",
      "metadata": {},
      "source": [
        "### 🔧 Cómo resolver con LinProg - Caso de Maximización\n",
        "\n",
        "Para problemas de **maximización** con LinProg necesitamos:\n",
        "\n",
        "1. **🔄 Convertir a minimización**: Usar coeficientes negativos en la función objetivo\n",
        "2. **📐 Configurar restricciones**: Matriz A para coeficientes, vector b para constantes  \n",
        "3. **⚙️ Definir bounds**: Especificar que las variables son no negativas\n",
        "4. **⚡ Resolver y analizar**: Interpretar resultados (recordando el cambio de signo)\n",
        "\n",
        "**Problema:** Maximizar la producción total sujeto a limitaciones de recursos."
      ]
    },
    {
      "cell_type": "code",
      "execution_count": 3,
      "metadata": {
        "colab": {
          "base_uri": "https://localhost:8080/"
        },
        "id": "kbMcFxvOANak",
        "outputId": "69e0432e-e15d-4429-f513-4769f56c0b1a"
      },
      "outputs": [
        {
          "data": {
            "text/plain": [
              "        message: Optimization terminated successfully. (HiGHS Status 7: Optimal)\n",
              "        success: True\n",
              "         status: 0\n",
              "            fun: -80.0\n",
              "              x: [ 0.000e+00  8.000e+01]\n",
              "            nit: 2\n",
              "          lower:  residual: [ 0.000e+00  8.000e+01]\n",
              "                 marginals: [ 0.000e+00  0.000e+00]\n",
              "          upper:  residual: [       inf        inf]\n",
              "                 marginals: [ 0.000e+00  0.000e+00]\n",
              "          eqlin:  residual: []\n",
              "                 marginals: []\n",
              "        ineqlin:  residual: [ 2.000e+01  0.000e+00]\n",
              "                 marginals: [-0.000e+00 -1.000e+00]\n",
              " mip_node_count: 0\n",
              " mip_dual_bound: 0.0\n",
              "        mip_gap: 0.0"
            ]
          },
          "execution_count": 3,
          "metadata": {},
          "output_type": "execute_result"
        }
      ],
      "source": [
        "# PROBLEMA: Maximizar Z = x₁ + x₂ (producción total)\n",
        "# RESTRICCIONES:\n",
        "#   2x₁ + x₂ ≤ 100  (horas de máquina A disponibles)\n",
        "#   x₁ + x₂ ≤ 80    (horas de máquina B disponibles)  \n",
        "#   x₁, x₂ ≥ 0      (no se puede producir cantidades negativas)\n",
        "\n",
        "# PASO 1: Convertir maximización a minimización\n",
        "# LinProg siempre minimiza, entonces para maximizar Z = x₁ + x₂\n",
        "# minimizamos -Z = -x₁ - x₂ (usamos coeficientes negativos)\n",
        "c = [-1, -1]  # Coeficientes: [-1, -1] para minimizar -(x₁ + x₂)\n",
        "\n",
        "# PASO 2: Definir matriz de coeficientes de las restricciones\n",
        "# Restricción 1: 2x₁ + 1x₂ ≤ 100  =>  coeficientes [2, 1]\n",
        "# Restricción 2: 1x₁ + 1x₂ ≤ 80   =>  coeficientes [1, 1]\n",
        "A = [[2, 1],     # Primera fila: coeficientes de la restricción de máquina A\n",
        "     [1, 1]]     # Segunda fila: coeficientes de la restricción de máquina B\n",
        "\n",
        "# PASO 3: Definir vector de límites (lado derecho de las desigualdades)\n",
        "# b[0] = 100: límite de horas de máquina A\n",
        "# b[1] = 80:  límite de horas de máquina B\n",
        "b = [100, 80]\n",
        "\n",
        "# PASO 4: Resolver el problema\n",
        "# bounds=(0, None) especifica que todas las variables son ≥ 0\n",
        "# LinProg por defecto trata las restricciones como igualdades (A_eq, b_eq)\n",
        "# Usamos A_ub, b_ub para desigualdades ≤ (upper bound)\n",
        "res = linprog(c, A_ub=A, b_ub=b, bounds=(0, None))\n",
        "\n",
        "# PASO 5: Mostrar resultado\n",
        "res"
      ]
    },
    {
      "cell_type": "code",
      "execution_count": 4,
      "metadata": {
        "colab": {
          "base_uri": "https://localhost:8080/"
        },
        "id": "5dutLjnqYHYJ",
        "outputId": "3b66b5e0-4742-4642-c74c-5c97c4063e50"
      },
      "outputs": [
        {
          "name": "stdout",
          "output_type": "stream",
          "text": [
            "Producción óptima de x1: 0.0\n",
            "Producción óptima de x2: 80.0\n",
            "Producción máxima: 80.0\n"
          ]
        }
      ],
      "source": [
        "# INTERPRETAR LOS RESULTADOS\n",
        "\n",
        "# res.x[0] contiene el valor óptimo de la primera variable (x₁)\n",
        "print(\"Producción óptima de x1:\", res.x[0])\n",
        "\n",
        "# res.x[1] contiene el valor óptimo de la segunda variable (x₂)  \n",
        "print(\"Producción óptima de x2:\", res.x[1])\n",
        "\n",
        "# res.fun contiene el valor óptimo de la función objetivo minimizada\n",
        "# Como minimizamos -Z, el valor máximo real de Z es -res.fun\n",
        "print(\"Producción máxima:\", -res.fun)"
      ]
    },
    {
      "cell_type": "markdown",
      "metadata": {
        "id": "zfCdFSTy-_69"
      },
      "source": [
        "## Caso 2"
      ]
    },
    {
      "cell_type": "markdown",
      "metadata": {
        "id": "gXR7oFcP--3W"
      },
      "source": [
        "Una refinería de petróleo procesa dos tipos de crudo: A y B con la finalidad de producir gas oíl, lubricantes y kerosene. Las demandas de estos\n",
        "productos son al menos respectivamente 14, 10 y 8 toneladas por día.\n",
        "El crudo A tiene un rendimiento de 0,2 toneladas de gas oíl, 0,10 toneladas de lubricante y 0,16 toneladas de kerosene por cada tonelada de\n",
        "petróleo.\n",
        "Los rendimientos del crudo B son: 0,10 toneladas de gas oíl, 0,20 toneladas de lubricante y 0,10 toneladas de kerosene.\n",
        "\n",
        "\n",
        "*   Formular el modelo que permita determinar la capacidad mínima de la planta en toneladas por día de crudo a procesar.\n",
        "*   Determinar gráficamente el espacio de soluciones factibles.\n",
        "*   Determinar la cantidad de cada crudo a procesar y la capacidad mínima de la planta utilizando el método gráfico.\n",
        "\n",
        "\n"
      ]
    },
    {
      "cell_type": "markdown",
      "metadata": {
        "id": "w6Nte7nmDc9q"
      },
      "source": [
        "Es un problema de minimización: queremos procesar lo mínimo de crudo (A y B) cumpliendo demandas mínimas.\n",
        "\n",
        "Objetivo:\n",
        "mín   $Z= x_A +x_B$\n",
        "\n",
        "Variables:\n",
        "$x_A,x_B \\geq 0$ (toneladas por día de crudo A y B.)\n",
        "\n",
        "Restricciones:\n",
        "\n",
        "Gasoil:      $0.2x_A+0.1x_B \\geq 14\\\\$\n",
        "Lubricantes: $0.1x_A+0.2x_B \\geq 10\\\\$\n",
        "Kerosene:    $0.16x_A+0.1x_B \\geq 8\\\\$\n"
      ]
    },
    {
      "cell_type": "markdown",
      "metadata": {},
      "source": [
        "### 🔧 Cómo resolver problemas con restricciones ≥ (mayor o igual)\n",
        "\n",
        "Para problemas de **minimización** con restricciones ≥ necesitamos:\n",
        "\n",
        "1. **🔄 Convertir restricciones**: Cambiar ≥ a ≤ multiplicando por -1\n",
        "2. **📐 Usar A_ub y b_ub**: Para restricciones de desigualdad (upper bound ≤)\n",
        "3. **⚙️ Especificar método**: Usar \"highs\" para mayor eficiencia\n",
        "4. **📊 Interpretar demandas**: Verificar que se cumplan las demandas mínimas\n",
        "\n",
        "**Problema:** Minimizar el procesamiento total de crudo cumpliendo demandas mínimas."
      ]
    },
    {
      "cell_type": "code",
      "execution_count": 5,
      "metadata": {
        "colab": {
          "base_uri": "https://localhost:8080/"
        },
        "id": "bQ8ofu0FINI_",
        "outputId": "27405d04-719f-49ae-ce2c-7ed278bdc2cb"
      },
      "outputs": [
        {
          "data": {
            "text/plain": [
              "        message: Optimization terminated successfully. (HiGHS Status 7: Optimal)\n",
              "        success: True\n",
              "         status: 0\n",
              "            fun: 80.0\n",
              "              x: [ 6.000e+01  2.000e+01]\n",
              "            nit: 2\n",
              "          lower:  residual: [ 6.000e+01  2.000e+01]\n",
              "                 marginals: [ 0.000e+00  0.000e+00]\n",
              "          upper:  residual: [       inf        inf]\n",
              "                 marginals: [ 0.000e+00  0.000e+00]\n",
              "          eqlin:  residual: []\n",
              "                 marginals: []\n",
              "        ineqlin:  residual: [ 0.000e+00  0.000e+00  3.600e+00]\n",
              "                 marginals: [-3.333e+00 -3.333e+00 -0.000e+00]\n",
              " mip_node_count: 0\n",
              " mip_dual_bound: 0.0\n",
              "        mip_gap: 0.0"
            ]
          },
          "execution_count": 5,
          "metadata": {},
          "output_type": "execute_result"
        }
      ],
      "source": [
        "# PROBLEMA: Minimizar Z = xA + xB (procesamiento total de crudo)\n",
        "# RESTRICCIONES ORIGINALES (≥):\n",
        "#   0.20xA + 0.10xB ≥ 14  (demanda mínima de gas oíl)\n",
        "#   0.10xA + 0.20xB ≥ 10  (demanda mínima de lubricantes)  \n",
        "#   0.16xA + 0.10xB ≥ 8   (demanda mínima de kerosene)\n",
        "\n",
        "# PASO 1: Definir función objetivo para minimización\n",
        "# Queremos minimizar xA + xB (cantidad total de crudo procesado)\n",
        "c = [1, 1]  # Coeficientes: [1, 1] significa minimizar 1*xA + 1*xB\n",
        "\n",
        "# PASO 2: Convertir restricciones ≥ a restricciones ≤\n",
        "# LinProg trabaja con restricciones ≤, entonces multiplicamos por -1\n",
        "# 0.20xA + 0.10xB ≥ 14  =>  -0.20xA - 0.10xB ≤ -14\n",
        "# 0.10xA + 0.20xB ≥ 10  =>  -0.10xA - 0.20xB ≤ -10  \n",
        "# 0.16xA + 0.10xB ≥ 8   =>  -0.16xA - 0.10xB ≤ -8\n",
        "A = [\n",
        "    [-0.20, -0.10],  # Restricción 1 convertida: gas oíl\n",
        "    [-0.10, -0.20],  # Restricción 2 convertida: lubricantes\n",
        "    [-0.16, -0.10],  # Restricción 3 convertida: kerosene\n",
        "]\n",
        "\n",
        "# PASO 3: Definir vector de constantes (también con signo cambiado)\n",
        "b = [-14, -10, -8]  # Términos independientes: [-14, -10, -8]\n",
        "\n",
        "# PASO 4: Resolver el problema\n",
        "# A_ub=A, b_ub=b especifica que son restricciones de desigualdad ≤ (upper bound)\n",
        "# bounds=(0, None) indica que xA ≥ 0 y xB ≥ 0 (no negatividad)\n",
        "# method=\"highs\" usa el algoritmo HiGHS (más eficiente para problemas grandes)\n",
        "res = linprog(c, A_ub=A, b_ub=b, bounds=(0, None), method=\"highs\")\n",
        "\n",
        "# PASO 5: Mostrar resultado completo\n",
        "res"
      ]
    },
    {
      "cell_type": "code",
      "execution_count": 6,
      "metadata": {
        "colab": {
          "base_uri": "https://localhost:8080/"
        },
        "id": "_u--EyGcIcB2",
        "outputId": "2e2052db-cfab-42b4-e71f-da2530ad2081"
      },
      "outputs": [
        {
          "name": "stdout",
          "output_type": "stream",
          "text": [
            "Éxito: True\n",
            "xA óptimo: 60.00 t/día\n",
            "xB óptimo: 20.00 t/día\n",
            "Procesamiento mínimo (xA + xB): 80.00 t/día\n"
          ]
        }
      ],
      "source": [
        "# INTERPRETAR LOS RESULTADOS DEL CASO 2\n",
        "\n",
        "# res.success indica si se encontró una solución óptima (True/False)\n",
        "print(\"Éxito:\", res.success)\n",
        "\n",
        "# res.x[0] contiene la cantidad óptima de crudo A a procesar\n",
        "print(f\"xA óptimo: {res.x[0]:.2f} t/día\")\n",
        "\n",
        "# res.x[1] contiene la cantidad óptima de crudo B a procesar  \n",
        "print(f\"xB óptimo: {res.x[1]:.2f} t/día\")\n",
        "\n",
        "# res.fun es el valor mínimo de la función objetivo (procesamiento total mínimo)\n",
        "print(f\"Procesamiento mínimo (xA + xB): {res.fun:.2f} t/día\")"
      ]
    },
    {
      "cell_type": "markdown",
      "metadata": {},
      "source": [
        "### 📈 Visualización del Caso 2 - Restricciones ≥ (mayor o igual)\n",
        "\n",
        "Para problemas con restricciones ≥, la región factible está **por encima** de las rectas:\n",
        "\n",
        "1. **📐 Convertir a ecuaciones**: Cambiar ≥ por = para dibujar las fronteras\n",
        "2. **🎯 Calcular región factible**: Usar `np.maximum` para encontrar el área válida\n",
        "3. **🎨 Graficar restricciones**: Cada restricción define una frontera\n",
        "4. **🌈 Sombrear hacia arriba**: La región válida está por encima de las líneas  \n",
        "5. **⭐ Marcar el óptimo**: Mostrar la solución que minimiza el objetivo"
      ]
    },
    {
      "cell_type": "code",
      "execution_count": 7,
      "metadata": {
        "colab": {
          "base_uri": "https://localhost:8080/",
          "height": 488
        },
        "id": "1MrB4-5CJCxH",
        "outputId": "fdc7f811-5d89-4570-b0be-0ac2870141e3"
      },
      "outputs": [
        {
          "data": {
            "image/png": "[encoded data removed]",
            "text/plain": [
              "<Figure size 700x500 with 1 Axes>"
            ]
          },
          "metadata": {},
          "output_type": "display_data"
        }
      ],
      "source": [
        "# PASO 1: Definir las rectas de frontera (convertir restricciones ≥ en ecuaciones =)\n",
        "\n",
        "# Creamos un rango de valores para xA (crudo A) de 0 a 120 toneladas/día\n",
        "# np.linspace(inicio, fin, cantidad_puntos) genera 400 puntos equidistantes\n",
        "xA = np.linspace(0, 120, 400)\n",
        "\n",
        "# RESTRICCIÓN 1: Gas oíl 0.20xA + 0.10xB = 14\n",
        "# Despejamos xB: 0.10xB = 14 - 0.20xA  =>  xB = (14 - 0.20xA)/0.10\n",
        "r1 = (14 - 0.20*xA)/0.10\n",
        "\n",
        "# RESTRICCIÓN 2: Lubricantes 0.10xA + 0.20xB = 10  \n",
        "# Despejamos xB: 0.20xB = 10 - 0.10xA  =>  xB = (10 - 0.10xA)/0.20\n",
        "r2 = (10 - 0.10*xA)/0.20\n",
        "\n",
        "# RESTRICCIÓN 3: Kerosene 0.16xA + 0.10xB = 8\n",
        "# Despejamos xB: 0.10xB = 8 - 0.16xA  =>  xB = (8 - 0.16xA)/0.10\n",
        "r3 = (8 - 0.16*xA)/0.10\n",
        "\n",
        "# PASO 2: Calcular la región factible (donde se cumplen TODAS las restricciones ≥)\n",
        "\n",
        "# Para restricciones ≥, la región factible está POR ENCIMA de todas las rectas\n",
        "# np.maximum.reduce() toma el valor máximo entre todas las restricciones en cada punto\n",
        "# También incluimos xB ≥ 0 usando np.zeros_like(xA)\n",
        "xB_min = np.maximum.reduce([r1, r2, r3, np.zeros_like(xA)])\n",
        "\n",
        "# PASO 3: Crear la figura y graficar las restricciones\n",
        "\n",
        "# plt.figure() crea una nueva figura con tamaño específico (ancho=7, alto=5 pulgadas)\n",
        "plt.figure(figsize=(7,5))\n",
        "\n",
        "# plt.plot() dibuja cada línea de restricción con colores diferentes\n",
        "# label= agrega texto para la leyenda identificando cada producto\n",
        "plt.plot(xA, r1, label='Gas oíl = 14', color='green')     # Restricción de gas oíl\n",
        "plt.plot(xA, r2, label='Lubricantes = 10', color='red')  # Restricción de lubricantes  \n",
        "plt.plot(xA, r3, label='Kerosene = 8', color='blue')     # Restricción de kerosene\n",
        "\n",
        "# PASO 4: Sombrear la región factible\n",
        "\n",
        "# plt.fill_between() rellena el área entre dos curvas\n",
        "# fill_between(xA, desde_xB, hasta_xB) sombrea desde xB_min hasta 200 (muy alto)\n",
        "# alpha=0.2 hace el sombreado semitransparente para mejor visualización\n",
        "plt.fill_between(xA, xB_min, 200, alpha=0.2)\n",
        "\n",
        "# PASO 5: Marcar el punto óptimo\n",
        "\n",
        "# plt.scatter() dibuja el punto óptimo encontrado por LinProg\n",
        "# ([60], [20]) marca el punto (xA=60, xB=20) con un círculo negro grande\n",
        "plt.scatter([60],[20], s=100,color='black')\n",
        "\n",
        "# plt.annotate() agrega una etiqueta con flecha apuntando al punto óptimo\n",
        "# xytext= define dónde colocar el texto, arrowprops= configura la flecha\n",
        "plt.annotate(\"Óptimo (60, 20)\", (60,20), xytext=(85,25), arrowprops=dict(arrowstyle=\"->\"))\n",
        "\n",
        "# CONFIGURACIÓN DEL GRÁFICO\n",
        "\n",
        "# plt.xlim() y plt.ylim() definen los límites de los ejes\n",
        "plt.xlim(0,120)  # Eje xA va de 0 a 120 toneladas/día\n",
        "plt.ylim(0,120)  # Eje xB va de 0 a 120 toneladas/día\n",
        "\n",
        "# plt.xlabel() y plt.ylabel() agregan etiquetas descriptivas a los ejes\n",
        "plt.xlabel(\"xA (t/día)\")  # Etiqueta del eje horizontal (crudo A)\n",
        "plt.ylabel(\"xB (t/día)\")  # Etiqueta del eje vertical (crudo B)\n",
        "\n",
        "# plt.title() agrega un título descriptivo al gráfico\n",
        "plt.title(\"Espacio factible y solución óptima\")\n",
        "\n",
        "# plt.legend() muestra una leyenda con las etiquetas de las líneas\n",
        "plt.legend()\n",
        "\n",
        "# plt.grid(True) agrega una cuadrícula para facilitar la lectura de valores\n",
        "plt.grid(True)\n",
        "\n",
        "# plt.show() muestra el gráfico final en pantalla\n",
        "plt.show()\n"
      ]
    },
    {
      "cell_type": "markdown",
      "metadata": {
        "id": "wKk9Y6UTAUZY"
      },
      "source": [
        "# Pulp"
      ]
    },
    {
      "cell_type": "markdown",
      "metadata": {
        "id": "TUfCCBtW_x0E"
      },
      "source": [
        "Una alternativa más flexible es la librería PuLP, que permite formular modelos de optimización de manera más clara (con nombres de variables y restricciones) y resolverlos con distintos solvers."
      ]
    },
    {
      "cell_type": "markdown",
      "metadata": {},
      "source": [
        "### 🔧 Configuración del Solver\n",
        "\n",
        "Por defecto, PuLP muestra mucha información técnica del proceso de optimización (versión del solver, comandos internos, etc.). Para mantener la salida limpia y enfocada en los resultados, usamos:\n",
        "\n",
        "```python\n",
        "solver = pulp.PULP_CBC_CMD(msg=0)\n",
        "prob.solve(solver)\n",
        "```\n",
        "\n",
        "Esto silencia la salida técnica y muestra solo nuestros resultados."
      ]
    },
    {
      "cell_type": "markdown",
      "metadata": {
        "id": "0UPs5iHRoa0G"
      },
      "source": [
        "Supongamos que queremos maximizar $3x+5y$ sujeta a $x+2y\\leq10$ y $2x+y\\leq12$"
      ]
    },
    {
      "cell_type": "markdown",
      "metadata": {},
      "source": [
        "### 📚 Ejemplo básico con PuLP - Sintaxis intuitiva\n",
        "\n",
        "**PuLP** hace la programación lineal más legible y natural:\n",
        "\n",
        "1. **🎯 Crear problema**: Especificar si es maximización o minimización\n",
        "2. **📊 Definir variables**: Crear variables con nombres descriptivos\n",
        "3. **🎯 Función objetivo**: Agregar directamente la expresión matemática\n",
        "4. **📏 Restricciones**: Escribir las limitaciones como ecuaciones/desigualdades\n",
        "5. **⚡ Resolver**: Ejecutar el solver y leer los resultados\n",
        "\n",
        "**Ventaja**: La sintaxis es casi idéntica a la notación matemática."
      ]
    },
    {
      "cell_type": "code",
      "execution_count": 8,
      "metadata": {
        "colab": {
          "base_uri": "https://localhost:8080/"
        },
        "id": "oX6oW8AJouWf",
        "outputId": "d7151378-e96f-4a8f-da64-28239918d579"
      },
      "outputs": [
        {
          "data": {
            "text/plain": [
              "1"
            ]
          },
          "execution_count": 8,
          "metadata": {},
          "output_type": "execute_result"
        }
      ],
      "source": [
        "# EJEMPLO BÁSICO: Maximizar 3x + 5y sujeto a x + 2y ≤ 10 y 2x + y ≤ 12\n",
        "\n",
        "# PASO 1: Crear el problema de optimización\n",
        "# LpProblem(nombre, tipo) crea un nuevo problema vacío\n",
        "# \"Problema\" es solo un nombre descriptivo que elegimos\n",
        "# LpMaximize indica que queremos MAXIMIZAR la función objetivo\n",
        "prob = pulp.LpProblem(\"Problema\", pulp.LpMaximize)\n",
        "\n",
        "# PASO 2: Definir las variables de decisión\n",
        "# LpVariable('nombre') crea una variable que PuLP va a optimizar\n",
        "# Por defecto, las variables son ≥ 0 (no negativas)\n",
        "# 'x' e 'y' son los nombres que aparecerán en los resultados\n",
        "x = pulp.LpVariable('x')\n",
        "y = pulp.LpVariable('y')\n",
        "\n",
        "# PASO 3: Definir la función objetivo (lo que queremos maximizar)\n",
        "# prob += expresión_matemática agrega la función objetivo al problema\n",
        "# 3*x + 5*y es exactamente la expresión matemática que queremos maximizar\n",
        "# \"Z\" es un nombre opcional para identificar la función objetivo\n",
        "prob += 3*x + 5*y, \"Z\"\n",
        "\n",
        "# PASO 4: Agregar las restricciones (limitaciones del problema)\n",
        "# prob += restricción agrega una limitación al problema\n",
        "# La sintaxis es muy similar a escribir matemática: variable operador valor\n",
        "\n",
        "# Restricción 1: x + 2y ≤ 10\n",
        "prob += x + 2*y <= 10\n",
        "\n",
        "# Restricción 2: 2x + y ≤ 12  \n",
        "prob += 2*x + y <= 12\n",
        "\n",
        "# PASO 5: Resolver el problema de optimización\n",
        "# Configuramos el solver para que no muestre información técnica (msg=0)\n",
        "solver = pulp.PULP_CBC_CMD(msg=0)\n",
        "# solve(solver) ejecuta el algoritmo de optimización y devuelve un código de estado\n",
        "# El resultado 1 significa que se encontró una solución óptima\n",
        "prob.solve(solver)\n",
        "\n"
      ]
    },
    {
      "cell_type": "code",
      "execution_count": 9,
      "metadata": {
        "colab": {
          "base_uri": "https://localhost:8080/"
        },
        "id": "4EWZf0Xlp-i9",
        "outputId": "b9e63658-f07d-4e44-d836-15c640f42496"
      },
      "outputs": [
        {
          "name": "stdout",
          "output_type": "stream",
          "text": [
            "Estado: Optimal\n",
            "Valor óptimo de x: 4.6666667\n",
            "Valor óptimo de y: 2.6666667\n",
            "Valor de la función objetivo Z: 27.333333600000003\n"
          ]
        }
      ],
      "source": [
        "# INTERPRETAR LOS RESULTADOS DE PULP\n",
        "\n",
        "# pulp.LpStatus[] convierte el código numérico a texto legible\n",
        "# prob.status contiene el estado de la solución (1=óptimo, 0=no factible, etc.)\n",
        "print(\"Estado:\", pulp.LpStatus[prob.status])\n",
        "\n",
        "# .varValue contiene el valor óptimo de cada variable después de resolver\n",
        "# x.varValue es el valor óptimo de la variable x\n",
        "print(\"Valor óptimo de x:\", x.varValue)\n",
        "\n",
        "# y.varValue es el valor óptimo de la variable y\n",
        "print(\"Valor óptimo de y:\", y.varValue)\n",
        "\n",
        "# pulp.value(prob.objective) obtiene el valor óptimo de la función objetivo\n",
        "# Es equivalente a evaluar 3*x.varValue + 5*y.varValue\n",
        "print(\"Valor de la función objetivo Z:\", pulp.value(prob.objective))\n"
      ]
    },
    {
      "cell_type": "markdown",
      "metadata": {
        "id": "eDt9ectrklEH"
      },
      "source": [
        "## Caso 3"
      ]
    },
    {
      "cell_type": "markdown",
      "metadata": {
        "id": "_jZodjIQkFmG"
      },
      "source": [
        "Una fábrica de equipos electrónicos construye amplificadores (x) y altoparlantes (y). Debido a su capacidad puede construir hasta 100 unidades diarias en total. Una convención le obliga a exportar a otras provincias la mitad de los amplificadores que fabrica y la tercera parte de los altoparlantes, pero por un problema de transporte no puede exportar más de 40 unidades por día. Cada amplificador deja un beneficio de 50 pesos y cada altoparlante deja 60 pesos.\n",
        "* Plantear las restricciones y la función objetivo.  \n",
        "* Determinar qué producción de amplificadores y de altoparlantes maximiza el beneficio.\n",
        "* Graficar el modelo indicando el conjunto de soluciones factibles."
      ]
    },
    {
      "cell_type": "markdown",
      "metadata": {
        "id": "KwxEcsEL0kqD"
      },
      "source": [
        "Vamos a maximizar la función de beneficio $Z= 50x +60y$ sujeta a\n",
        "* $x+y \\leq 100$ (capacidad)\n",
        "* $\\frac{1}{2}x+\\frac{1}{3}y\\leq40$ (exportación)\n",
        "* $x\\geq0,y\\geq0$"
      ]
    },
    {
      "cell_type": "markdown",
      "metadata": {},
      "source": [
        "### 📚 Cómo usar PuLP - Pasos para resolver un problema de optimización\n",
        "\n",
        "**PuLP** nos permite formular problemas de optimización de manera intuitiva siguiendo estos 5 pasos:\n",
        "\n",
        "1. **🎯 Crear el problema**: Definir si queremos maximizar o minimizar\n",
        "2. **📊 Definir variables**: Crear las variables de decisión (x, y, etc.)\n",
        "3. **🎯 Establecer función objetivo**: Qué queremos optimizar\n",
        "4. **📏 Agregar restricciones**: Limitaciones que debemos cumplir\n",
        "5. **⚡ Resolver**: Ejecutar el solver y obtener resultados\n",
        "\n",
        "Veamos cada paso en detalle:"
      ]
    },
    {
      "cell_type": "code",
      "execution_count": 10,
      "metadata": {
        "colab": {
          "base_uri": "https://localhost:8080/"
        },
        "id": "fNeziEhL5m6s",
        "outputId": "86c8c9ff-db00-4cf2-fb27-6739803afb86"
      },
      "outputs": [
        {
          "name": "stdout",
          "output_type": "stream",
          "text": [
            "el beneficio máximo alcanzado es 6000.0 cuando se fabrican 0.0 amplificadores y 100.0 altoparlantes\n"
          ]
        },
        {
          "name": "stderr",
          "output_type": "stream",
          "text": [
            "/home/alexballera/Documents/uba/laboratorio-datos-fce/.venv/lib/python3.12/site-packages/pulp/pulp.py:1489: UserWarning: Spaces are not permitted in the name. Converted to '_'\n",
            "  warnings.warn(\"Spaces are not permitted in the name. Converted to '_'\")\n"
          ]
        }
      ],
      "source": [
        "# PASO 1: Crear el problema de optimización\n",
        "# LpProblem(\"nombre\", tipo_optimización) crea un problema vacío\n",
        "# LpMaximize indica que queremos MAXIMIZAR la función objetivo\n",
        "prob = pulp.LpProblem(\"Caso 3\", pulp.LpMaximize)\n",
        "\n",
        "# PASO 2: Definir las variables de decisión\n",
        "# LpVariable('nombre') crea una variable que PuLP va a determinar\n",
        "# x = cantidad de amplificadores a producir\n",
        "# y = cantidad de altoparlantes a producir\n",
        "# Por defecto, las variables son >= 0 (no negativas)\n",
        "x = pulp.LpVariable('x')\n",
        "y = pulp.LpVariable('y')\n",
        "\n",
        "# PASO 3: Definir la función objetivo (lo que queremos maximizar)\n",
        "# prob += expresión_matemática agrega la función objetivo al problema\n",
        "# 50*x + 60*y = beneficio total (50 pesos por amplificador + 60 pesos por altoparlante)\n",
        "# \"Z\" es solo un nombre descriptivo para la función objetivo\n",
        "prob += 50*x + 60*y, \"Z\"\n",
        "\n",
        "# PASO 4: Agregar las restricciones (limitaciones del problema)\n",
        "# prob += restricción agrega una limitación al problema\n",
        "\n",
        "# Restricción 1: Capacidad total de producción\n",
        "# x + y <= 100 (no podemos producir más de 100 unidades en total)\n",
        "prob += x + y <= 100\n",
        "\n",
        "# Restricción 2: Limitación de exportación\n",
        "# 0.5*x + (1/3)*y <= 40 (exportamos 1/2 de amplificadores + 1/3 de altoparlantes <= 40)\n",
        "prob += 0.5*x + 1/3*y <= 40\n",
        "\n",
        "# Restricción 3 y 4: No negatividad (las variables deben ser >= 0)\n",
        "# Aunque por defecto PuLP asume esto, es buena práctica especificarlo\n",
        "prob += x >= 0\n",
        "prob += y >= 0\n",
        "\n",
        "# PASO 5: Resolver el problema\n",
        "# Configuramos el solver para que no muestre información técnica (msg=0)\n",
        "solver = pulp.PULP_CBC_CMD(msg=0)\n",
        "# solve(solver) ejecuta el algoritmo de optimización\n",
        "prob.solve(solver)\n",
        "\n",
        "# MOSTRAR RESULTADOS\n",
        "# pulp.value(prob.objective) obtiene el valor óptimo de la función objetivo\n",
        "# x.varValue y y.varValue obtienen los valores óptimos de las variables\n",
        "print(f'el beneficio máximo alcanzado es {pulp.value(prob.objective)} cuando se fabrican {x.varValue} amplificadores y {y.varValue} altoparlantes')\n"
      ]
    },
    {
      "cell_type": "markdown",
      "metadata": {},
      "source": [
        "### 📊 Interpretación de Resultados\n",
        "\n",
        "**Resultado obtenido:**\n",
        "- **Amplificadores (x)**: 0 unidades\n",
        "- **Altoparlantes (y)**: 100 unidades  \n",
        "- **Beneficio máximo**: $6,000\n",
        "\n",
        "**¿Por qué este resultado?**\n",
        "\n",
        "1. **Mayor rentabilidad**: Los altoparlantes dan $60 vs $50 de los amplificadores\n",
        "2. **Restricciones activas**: \n",
        "   - Capacidad: 0 + 100 = 100 ✅ (se usa toda la capacidad)\n",
        "   - Exportación: 0.5(0) + (1/3)(100) = 33.33 < 40 ✅ (no es limitante)\n",
        "3. **Decisión óptima**: Producir solo el producto más rentable hasta agotar la capacidad\n",
        "\n",
        "**Verificación matemática:**\n",
        "- Si producimos solo altoparlantes: 100 × $60 = $6,000\n",
        "- Si producimos solo amplificadores: 100 × $50 = $5,000\n",
        "- ¡Es lógico producir solo altoparlantes!"
      ]
    },
    {
      "cell_type": "markdown",
      "metadata": {
        "id": "0-gCBRd0650i"
      },
      "source": [
        "Vamos a visualizar la solución de esquina a la que hemos llegado en el gráfico del tercer inciso:"
      ]
    },
    {
      "cell_type": "markdown",
      "metadata": {},
      "source": [
        "### 📈 Cómo crear gráficos de programación lineal - Pasos para visualizar la solución\n",
        "\n",
        "**Matplotlib** nos permite visualizar problemas de programación lineal siguiendo estos pasos:\n",
        "\n",
        "1. **📐 Definir las rectas de frontera**: Convertir restricciones (≤) en ecuaciones (=)\n",
        "2. **🎯 Calcular la región factible**: Encontrar donde se cumplen todas las restricciones\n",
        "3. **🎨 Graficar las restricciones**: Dibujar las líneas que limitan el espacio\n",
        "4. **🌈 Sombrear la región**: Resaltar el área donde están las soluciones válidas\n",
        "5. **⭐ Marcar el punto óptimo**: Mostrar la mejor solución encontrada\n",
        "\n",
        "Veamos cada paso aplicado a nuestro problema:"
      ]
    },
    {
      "cell_type": "code",
      "execution_count": 11,
      "metadata": {
        "colab": {
          "base_uri": "https://localhost:8080/",
          "height": 487
        },
        "id": "Gba7FIDVj4tt",
        "outputId": "2b59e9e4-d73a-41ee-8623-efe9be7f98b0"
      },
      "outputs": [
        {
          "data": {
            "image/png": "[encoded data removed]",
            "text/plain": [
              "<Figure size 700x500 with 1 Axes>"
            ]
          },
          "metadata": {},
          "output_type": "display_data"
        }
      ],
      "source": [
        "# PASO 1: Definir las rectas de frontera (convertir restricciones en ecuaciones)\n",
        "\n",
        "# Creamos un rango de valores para x (amplificadores) de 0 a 100\n",
        "# np.linspace(inicio, fin, cantidad_puntos) genera 400 puntos equidistantes\n",
        "x = np.linspace(0, 100, 400)\n",
        "\n",
        "# RESTRICCIÓN 1: Capacidad total x + y = 100\n",
        "# Despejamos y: y = 100 - x\n",
        "# Esta línea representa el límite máximo de producción total\n",
        "y_cap = 100 - x\n",
        "\n",
        "# RESTRICCIÓN 2: Exportación 0.5x + (1/3)y = 40\n",
        "# Despejamos y: (1/3)y = 40 - 0.5x  =>  y = 3(40 - 0.5x) = 120 - 1.5x\n",
        "# Esta línea representa el límite máximo de exportación\n",
        "y_exp = 120 - 1.5*x\n",
        "\n",
        "# PASO 2: Calcular la región factible (donde se cumplen todas las restricciones)\n",
        "\n",
        "# np.minimum() toma el menor valor entre las dos restricciones en cada punto\n",
        "# La región factible está por DEBAJO de ambas rectas (menor o igual)\n",
        "y_factible = np.minimum(y_cap, y_exp)\n",
        "\n",
        "# np.maximum() asegura que y >= 0 (no podemos producir cantidades negativas)\n",
        "# La región factible también debe estar en el primer cuadrante\n",
        "y_factible = np.maximum(y_factible, 0)\n",
        "\n",
        "# PASO 3: Crear la figura y graficar las restricciones\n",
        "\n",
        "# plt.figure() crea una nueva figura con tamaño específico (ancho=7, alto=5 pulgadas)\n",
        "plt.figure(figsize=(7,5))\n",
        "\n",
        "# plt.plot() dibuja las líneas de las restricciones\n",
        "# label= agrega texto para la leyenda\n",
        "plt.plot(x, y_cap, label='x + y = 100')           # Línea de capacidad total\n",
        "plt.plot(x, y_exp, label='0.5x + (1/3)y = 40')   # Línea de exportación\n",
        "\n",
        "# PASO 4: Sombrear la región factible\n",
        "\n",
        "# plt.fill_between() rellena el área entre dos curvas\n",
        "# fill_between(x, desde_y, hasta_y) sombrea desde y=0 hasta y=y_factible\n",
        "# alpha=0.2 hace el sombreado semitransparente (0=transparente, 1=opaco)\n",
        "plt.fill_between(x, 0, y_factible, alpha=0.2)\n",
        "\n",
        "# PASO 5: Marcar el punto óptimo\n",
        "\n",
        "# plt.scatter() dibuja puntos específicos en el gráfico\n",
        "# ([0], [100]) marca el punto (x=0, y=100) que es nuestra solución óptima\n",
        "# s=100 define el tamaño del punto, color='black' lo hace negro\n",
        "plt.scatter([0],[100], s=100,color='black')\n",
        "\n",
        "# CONFIGURACIÓN DEL GRÁFICO\n",
        "\n",
        "# plt.xlim() y plt.ylim() definen los límites de los ejes x e y\n",
        "plt.xlim(0, 105)  # Eje x va de 0 a 105 (un poco más que 100 para mejor visualización)\n",
        "plt.ylim(0, 105)  # Eje y va de 0 a 105\n",
        "\n",
        "# plt.xlabel() y plt.ylabel() agregan etiquetas a los ejes\n",
        "plt.xlabel('Amplificadores (x)')      # Etiqueta del eje horizontal\n",
        "plt.ylabel('Altoparlantes (y)')       # Etiqueta del eje vertical\n",
        "\n",
        "# plt.title() agrega un título al gráfico\n",
        "plt.title('Conjunto de soluciones factibles')\n",
        "\n",
        "# plt.legend() muestra una leyenda con las etiquetas de las líneas\n",
        "plt.legend()\n",
        "\n",
        "# plt.grid(True) agrega una cuadrícula para facilitar la lectura\n",
        "plt.grid(True)\n",
        "\n",
        "# plt.show() muestra el gráfico final en pantalla\n",
        "plt.show()\n"
      ]
    },
    {
      "cell_type": "markdown",
      "metadata": {},
      "source": [
        "### 🔍 Interpretación del Gráfico\n",
        "\n",
        "**¿Qué vemos en el gráfico?**\n",
        "\n",
        "1. **Línea azul (x + y = 100)**: Representa el límite de capacidad de producción\n",
        "   - Todo lo que está **por debajo** de esta línea cumple con la restricción de capacidad\n",
        "\n",
        "2. **Línea naranja (0.5x + (1/3)y = 40)**: Representa el límite de exportación\n",
        "   - Todo lo que está **por debajo** de esta línea cumple con la restricción de exportación\n",
        "\n",
        "3. **Área sombreada (gris)**: La **región factible**\n",
        "   - Cualquier punto dentro de esta área representa una solución válida\n",
        "   - Todas las restricciones se cumplen simultáneamente\n",
        "\n",
        "4. **Punto negro (0, 100)**: La **solución óptima**\n",
        "   - Es el punto de la región factible que maximiza el beneficio\n",
        "   - Está en una \"esquina\" de la región factible (vértice del polígono)\n",
        "\n",
        "**¿Por qué el óptimo está en una esquina?**\n",
        "En programación lineal, la solución óptima siempre está en un vértice de la región factible. Esto se debe a que la función objetivo es lineal, por lo que el máximo (o mínimo) se alcanza en los extremos de la región."
      ]
    },
    {
      "cell_type": "markdown",
      "metadata": {
        "id": "TO_Tj7_h_wFB"
      },
      "source": [
        "## Caso 4"
      ]
    },
    {
      "cell_type": "markdown",
      "metadata": {
        "id": "ZZWIME6I_0DN"
      },
      "source": [
        "Vamos a adicionar variables de elección y restricciones.\n",
        "\n",
        "Una empresa agrícola produce trigo (x1), maíz (x2), soja (x3) y girasol (x4).\n",
        "Dispone de tres recursos limitados:\n",
        "\n",
        "* Tierra cultivable: 600 hectáreas.\n",
        "\n",
        "* Agua para riego: 1.200 m³.\n",
        "\n",
        "* Horas de trabajo: 1.000 horas\n",
        "\n",
        "Cada cultivo requiere:\n"
      ]
    },
    {
      "cell_type": "markdown",
      "metadata": {
        "id": "Lw7aBszEBJ7p"
      },
      "source": [
        "| Cultivo     | Tierra (ha) | Agua (m³) | Trabajo (h) | Beneficio (\\$/unidad) |\n",
        "| ----------- | ----------- | --------- | ----------- | --------------------- |\n",
        "| Trigo (x1)  | 5           | 4         | 3           | 40                    |\n",
        "| Maíz (x2)   | 3           | 2         | 5           | 50                    |\n",
        "| Soja (x3)   | 2           | 5         | 2           | 60                    |\n",
        "| Girasol(x4) | 5           | 3         | 4           | 55                    |\n"
      ]
    },
    {
      "cell_type": "markdown",
      "metadata": {
        "id": "2_qrFJJqBO0N"
      },
      "source": [
        "Restricciones:\n",
        "\n",
        "El uso total de tierra no puede superar las 600 ha.\n",
        "\n",
        "El uso total de agua no puede superar los 1.200 m³.\n",
        "\n",
        "El trabajo total no puede superar las 1.000 h.\n"
      ]
    },
    {
      "cell_type": "markdown",
      "metadata": {
        "id": "HtzEOR03sVBM"
      },
      "source": [
        "Tenemos que maximizar el beneficio $Z=40x_1+50x_2+60x_3+55x_4$ sujeto a\n",
        "\n",
        "$5x_1 + 3x_2 + 2x_3 + 5x_4 \\leq 600\\\\\n",
        "4x_1 + 2x_2 + 5x_3 + 3x_4 \\leq 1200\\\\\n",
        "3x_1 + 5x_2 + 2x_3 + 4x_4 \\leq 1000$"
      ]
    },
    {
      "cell_type": "markdown",
      "metadata": {},
      "source": [
        "### 🔧 Caso 4: Problemas con múltiples variables - Agricultura\n",
        "\n",
        "Para problemas con **4 variables** y **múltiples restricciones**:\n",
        "\n",
        "1. **📊 Variables descriptivas**: Usar nombres claros (Trigo, Maiz, Soja, Girasol)\n",
        "2. **⚙️ lowBound=0**: Especificar explícitamente que las variables son no negativas\n",
        "3. **📏 Múltiples restricciones**: Una por cada recurso limitado (tierra, agua, trabajo)\n",
        "4. **🔄 Iteración sobre variables**: Usar bucles para mostrar resultados de forma ordenada\n",
        "5. **💰 Interpretación económica**: Analizar qué cultivos son más rentables\n",
        "\n",
        "**Ventaja de PuLP**: Maneja fácilmente problemas complejos con muchas variables."
      ]
    },
    {
      "cell_type": "code",
      "execution_count": 12,
      "metadata": {
        "colab": {
          "base_uri": "https://localhost:8080/"
        },
        "id": "4jP5RAoBt5ig",
        "outputId": "88bca80d-2429-415e-ef6a-39fd717ea511"
      },
      "outputs": [
        {
          "name": "stdout",
          "output_type": "stream",
          "text": [
            "Producción óptima:\n",
            "Girasol = 0.0\n",
            "Maiz = 54.545455\n",
            "Soja = 218.18182\n",
            "Trigo = 0.0\n",
            "Beneficio máximo = 15818.18195\n"
          ]
        }
      ],
      "source": [
        "# PROBLEMA AGRÍCOLA: Maximizar beneficio con 4 cultivos y 3 recursos limitados\n",
        "# OBJETIVO: Maximizar Z = 40x₁ + 50x₂ + 60x₃ + 55x₄ (beneficio total)\n",
        "# RESTRICCIONES:\n",
        "#   Tierra:  5x₁ + 3x₂ + 2x₃ + 5x₄ ≤ 600 ha\n",
        "#   Agua:    4x₁ + 2x₂ + 5x₃ + 3x₄ ≤ 1200 m³  \n",
        "#   Trabajo: 3x₁ + 5x₂ + 2x₃ + 4x₄ ≤ 1000 h\n",
        "\n",
        "# PASO 1: Crear el problema de maximización\n",
        "# \"Problema agro\" es un nombre descriptivo para identificar este problema\n",
        "prob = pulp.LpProblem(\"Problema agro\", pulp.LpMaximize)\n",
        "\n",
        "# PASO 2: Definir las variables de decisión con nombres descriptivos\n",
        "# lowBound=0 especifica explícitamente que no se pueden producir cantidades negativas\n",
        "# Los nombres aparecerán en los resultados finales para facilitar la interpretación\n",
        "x1 = pulp.LpVariable(\"Trigo\", lowBound=0)     # Cantidad de trigo a producir\n",
        "x2 = pulp.LpVariable(\"Maiz\", lowBound=0)      # Cantidad de maíz a producir  \n",
        "x3 = pulp.LpVariable(\"Soja\", lowBound=0)      # Cantidad de soja a producir\n",
        "x4 = pulp.LpVariable(\"Girasol\", lowBound=0)   # Cantidad de girasol a producir\n",
        "\n",
        "# PASO 3: Definir la función objetivo (beneficio total a maximizar)\n",
        "# Cada cultivo aporta diferente beneficio por unidad producida\n",
        "# 40*x1: beneficio del trigo ($40 por unidad)\n",
        "# 50*x2: beneficio del maíz ($50 por unidad)  \n",
        "# 60*x3: beneficio de la soja ($60 por unidad)\n",
        "# 55*x4: beneficio del girasol ($55 por unidad)\n",
        "prob += 40*x1 + 50*x2 + 60*x3 + 55*x4\n",
        "\n",
        "# PASO 4: Agregar las restricciones de recursos\n",
        "\n",
        "# Restricción 1: Limitación de tierra cultivable (600 hectáreas disponibles)\n",
        "# Cada cultivo consume diferente cantidad de tierra por unidad\n",
        "prob += 5*x1 + 3*x2 + 2*x3 + 5*x4 <= 600\n",
        "\n",
        "# Restricción 2: Limitación de agua para riego (1200 m³ disponibles)  \n",
        "# Cada cultivo requiere diferente cantidad de agua por unidad\n",
        "prob += 4*x1 + 2*x2 + 5*x3 + 3*x4 <= 1200\n",
        "\n",
        "# Restricción 3: Limitación de horas de trabajo (1000 horas disponibles)\n",
        "# Cada cultivo demanda diferente cantidad de trabajo por unidad  \n",
        "prob += 3*x1 + 5*x2 + 2*x3 + 4*x4 <= 1000\n",
        "\n",
        "# PASO 5: Resolver el problema de optimización\n",
        "# Configuramos el solver CBC para que no muestre información técnica (msg=0)\n",
        "solver = pulp.PULP_CBC_CMD(msg=0)\n",
        "prob.solve(solver)\n",
        "\n",
        "# PASO 6: Mostrar los resultados de forma organizada\n",
        "\n",
        "print(\"Producción óptima:\")\n",
        "# Iteramos sobre todas las variables del problema para mostrar sus valores óptimos\n",
        "for v in prob.variables():\n",
        "    # v.name contiene el nombre descriptivo (\"Trigo\", \"Maiz\", etc.)\n",
        "    # v.varValue contiene la cantidad óptima a producir de cada cultivo\n",
        "    print(f\"{v.name} = {v.varValue}\")\n",
        "\n",
        "# pulp.value(prob.objective) calcula el beneficio máximo total alcanzable\n",
        "print(\"Beneficio máximo =\", pulp.value(prob.objective))\n"
      ]
    },
    {
      "cell_type": "markdown",
      "metadata": {
        "id": "2It85fp4jbfP"
      },
      "source": [
        "# 🥇 ⚡ 🤓 Mini graficadora del espacio factible"
      ]
    },
    {
      "cell_type": "markdown",
      "metadata": {},
      "source": [
        "### 🛠️ Herramienta Interactiva - Mini Graficadora de Programación Lineal\n",
        "\n",
        "Esta herramienta te permite **experimentar** con diferentes problemas de programación lineal:\n",
        "\n",
        "**🎯 Qué hace:**\n",
        "- Solicita que ingreses tus propias restricciones\n",
        "- Grafica automáticamente la región factible  \n",
        "- Muestra visualmente cómo se intersectan las restricciones\n",
        "\n",
        "**📋 Formato de entrada:**\n",
        "- `a b c tipo` donde `a*x + b*y tipo c`\n",
        "- Ejemplo: `2 1 10 <=` significa `2x + 1y ≤ 10`\n",
        "- Tipos válidos: `<=`, `>=`, `=`\n",
        "\n",
        "**🎨 Salida visual:**\n",
        "- Líneas de colores para cada restricción\n",
        "- Región factible sombreada en gris\n",
        "- Cuadrícula para facilitar la lectura\n",
        "\n",
        "**💡 Uso educativo:** Ideal para experimentar y entender cómo cambia la región factible con diferentes restricciones."
      ]
    },
    {
      "cell_type": "markdown",
      "metadata": {},
      "source": [
        "### 📋 CÓMO USAR LA HERRAMIENTA - Versión Simplificada\n",
        "\n",
        "**🎯 MÉTODO SIMPLE:** Modifica directamente el código (no necesitas escribir en inputs)\n",
        "\n",
        "**Problema ejemplo:** Maximizar Z = 3x + 2y sujeto a:\n",
        "- x + y ≤ 8\n",
        "- 2x + y ≤ 10  \n",
        "- x ≥ 0, y ≥ 0\n",
        "\n",
        "**PASOS A SEGUIR:**\n",
        "\n",
        "**PASO 1:** Busca la lista llamada `restricciones` en el código\n",
        "**PASO 2:** Modifica la lista con tus restricciones usando el formato `(a, b, c, 'tipo')`\n",
        "\n",
        "**EJEMPLO DE MODIFICACIÓN:**\n",
        "```python\n",
        "restricciones = [\n",
        "    (1, 1, 8, '<='),     # x + y ≤ 8\n",
        "    (2, 1, 10, '<='),    # 2x + y ≤ 10\n",
        "]\n",
        "```\n",
        "\n",
        "**PASO 3:** Ejecuta la celda ▶️ \n",
        "**RESULTADO:** ¡Gráfico automático con tu región factible!\n",
        "\n",
        "---\n",
        "\n",
        "**📐 FORMATO:** `(a, b, c, 'tipo')` donde `a*x + b*y tipo c`\n",
        "\n",
        "**MÁS EJEMPLOS:**\n",
        "- Para `3x - 2y ≥ 6` escribe: `(3, -2, 6, '>=')`\n",
        "- Para `x ≤ 5` escribe: `(1, 0, 5, '<=')`  \n",
        "- Para `4y = 8` escribe: `(0, 4, 8, '=')`\n",
        "\n",
        "**VENTAJAS:**\n",
        "✅ Sin problemas de input\n",
        "✅ Fácil de modificar y probar\n",
        "✅ Código reutilizable"
      ]
    },
    {
      "cell_type": "markdown",
      "metadata": {},
      "source": [
        "### 📝 Ejemplo paso a paso - Cómo usar la herramienta\n",
        "\n",
        "**Supongamos que queremos graficar este problema:**\n",
        "- Maximizar `Z = 3x + 2y`\n",
        "- Sujeto a: `x + y ≤ 8`, `2x + y ≤ 10`, `x ≥ 0`, `y ≥ 0`\n",
        "\n",
        "**Pasos a seguir:**\n",
        "\n",
        "1. **Pregunta:** \"¿Cuántas restricciones vas a ingresar?\"\n",
        "   - **Respuesta:** `2` (solo contamos x+y≤8 y 2x+y≤10, las no-negatividad se asumen)\n",
        "\n",
        "2. **Restricción 1:** \"Ingresa (a b c tipo):\"\n",
        "   - **Respuesta:** `1 1 8 <=` (para x + y ≤ 8)\n",
        "\n",
        "3. **Restricción 2:** \"Ingresa (a b c tipo):\"\n",
        "   - **Respuesta:** `2 1 10 <=` (para 2x + y ≤ 10)\n",
        "\n",
        "4. **Resultado:** Gráfico con la región factible sombreada\n",
        "\n",
        "**¡Ahora inténtalo tú!**"
      ]
    },
    {
      "cell_type": "code",
      "execution_count": 14,
      "metadata": {
        "colab": {
          "base_uri": "https://localhost:8080/",
          "height": 332
        },
        "id": "OZyc8qXyFM6Q",
        "outputId": "90a95793-a6aa-4ea1-dea0-f1d6a25b0131"
      },
      "outputs": [
        {
          "name": "stdout",
          "output_type": "stream",
          "text": [
            "🎯 MINI GRAFICADORA DE PROGRAMACIÓN LINEAL - VERSIÓN SIMPLE\n",
            "============================================================\n",
            "👆 INSTRUCCIONES: Modifica la lista 'restricciones' debajo\n",
            "   Formato: (a, b, c, 'tipo') para a*x + b*y tipo c\n",
            "\n",
            "📊 RESTRICCIONES DEFINIDAS:\n",
            "   1. 1x + 1y <= 8\n",
            "   2. 2x + 1y <= 10\n",
            "\n",
            "🎨 Procesando restricciones...\n"
          ]
        },
        {
          "data": {
            "image/png": "[encoded data removed]",
            "text/plain": [
              "<Figure size 1000x800 with 1 Axes>"
            ]
          },
          "metadata": {},
          "output_type": "display_data"
        },
        {
          "name": "stdout",
          "output_type": "stream",
          "text": [
            "🎉 ¡GRÁFICO COMPLETADO!\n",
            "📊 La región factible está sombreada en AZUL CLARO\n",
            "📈 Las líneas de colores son las restricciones\n",
            "✨ Cualquier punto dentro del área azul es una solución válida\n",
            "\n",
            "🔧 PARA CAMBIAR LAS RESTRICCIONES:\n",
            "   1. Modifica la lista 'restricciones' arriba\n",
            "   2. Vuelve a ejecutar esta celda\n",
            "   3. ¡Verás tu nuevo gráfico!\n"
          ]
        }
      ],
      "source": [
        "# VERSIÓN SIMPLIFICADA: Define tus restricciones directamente en el código\n",
        "\n",
        "print(\"🎯 MINI GRAFICADORA DE PROGRAMACIÓN LINEAL - VERSIÓN SIMPLE\")\n",
        "print(\"=\" * 60)\n",
        "print(\"👆 INSTRUCCIONES: Modifica la lista 'restricciones' debajo\")\n",
        "print(\"   Formato: (a, b, c, 'tipo') para a*x + b*y tipo c\")\n",
        "print()\n",
        "\n",
        "# 📝 MODIFICA ESTA LISTA CON TUS RESTRICCIONES:\n",
        "# Formato: (a, b, c, 'tipo') donde representa a*x + b*y tipo c\n",
        "# Ejemplos:\n",
        "#   (1, 1, 8, '<=')   significa  x + y ≤ 8\n",
        "#   (2, 1, 10, '<=')  significa  2x + y ≤ 10\n",
        "#   (1, -1, 0, '>=')  significa  x - y ≥ 0\n",
        "\n",
        "restricciones = [\n",
        "    (1, 1, 8, '<='),     # x + y ≤ 8\n",
        "    (2, 1, 10, '<='),    # 2x + y ≤ 10\n",
        "]\n",
        "\n",
        "print(\"📊 RESTRICCIONES DEFINIDAS:\")\n",
        "for i, (a, b, c, tipo) in enumerate(restricciones, 1):\n",
        "    print(f\"   {i}. {a}x + {b}y {tipo} {c}\")\n",
        "print()\n",
        "\n",
        "# Resto del código de graficación...\n",
        "x = np.linspace(0, 15, 400)\n",
        "plt.figure(figsize=(10, 8))\n",
        "\n",
        "y_todas = []\n",
        "\n",
        "print(\"🎨 Procesando restricciones...\")\n",
        "for (a, b, c, tipo) in restricciones:\n",
        "    if b != 0:\n",
        "        y = (c - a*x)/b\n",
        "        y_todas.append((y, tipo))\n",
        "        plt.plot(x, y, label=f\"{a}x + {b}y {tipo} {c}\", linewidth=2)\n",
        "    else:\n",
        "        x_val = c/a\n",
        "        plt.axvline(x_val, label=f\"{a}x {tipo} {c}\", color='red', linewidth=2)\n",
        "\n",
        "# Calcular región factible\n",
        "y_factible = np.full_like(x, np.inf)\n",
        "\n",
        "for (y, tipo) in y_todas:\n",
        "    if tipo == \"<=\":\n",
        "        y_factible = np.minimum(y_factible, y)\n",
        "    elif tipo == \">=\":\n",
        "        y_factible = np.maximum(y_factible, y)\n",
        "\n",
        "y_factible = np.maximum(y_factible, 0)\n",
        "\n",
        "# Graficar\n",
        "plt.fill_between(x, 0, y_factible, color=\"lightblue\", alpha=0.5, label=\"Región factible\")\n",
        "\n",
        "plt.xlim(0, 12)\n",
        "plt.ylim(0, 12)\n",
        "plt.xlabel(\"x\", fontsize=12)\n",
        "plt.ylabel(\"y\", fontsize=12)\n",
        "plt.title(\"Conjunto Factible - Programación Lineal\", fontsize=14, fontweight='bold')\n",
        "plt.legend(fontsize=11)\n",
        "plt.grid(True, alpha=0.3)\n",
        "\n",
        "# Agregar anotaciones\n",
        "plt.text(2, 10, \"Región Factible\", fontsize=12, \n",
        "         bbox=dict(boxstyle=\"round,pad=0.3\", facecolor=\"lightblue\", alpha=0.7))\n",
        "\n",
        "plt.tight_layout()\n",
        "plt.show()\n",
        "\n",
        "print(\"🎉 ¡GRÁFICO COMPLETADO!\")\n",
        "print(\"📊 La región factible está sombreada en AZUL CLARO\")\n",
        "print(\"📈 Las líneas de colores son las restricciones\")\n",
        "print(\"✨ Cualquier punto dentro del área azul es una solución válida\")\n",
        "print()\n",
        "print(\"🔧 PARA CAMBIAR LAS RESTRICCIONES:\")\n",
        "print(\"   1. Modifica la lista 'restricciones' arriba\")\n",
        "print(\"   2. Vuelve a ejecutar esta celda\")\n",
        "print(\"   3. ¡Verás tu nuevo gráfico!\")\n"
      ]
    },
    {
      "cell_type": "markdown",
      "metadata": {
        "id": "K_pVfe-JAJTl"
      },
      "source": [
        "# Comparemos Pulp y Linprog"
      ]
    },
    {
      "cell_type": "markdown",
      "metadata": {
        "id": "XPVu8HcTBkz3"
      },
      "source": [
        "## 📊 Comparación entre `linprog` (SciPy) y `PuLP`\n",
        "\n",
        "| Aspecto | `linprog` (SciPy) | `PuLP` |\n",
        "|---------|------------------|--------|\n",
        "| **Enfoque** | Pensado para **resolver rápido** problemas de optimización. | Pensado para **formular modelos de forma clara** y cercana a la notación matemática. |\n",
        "| **Forma de uso** | Siempre **minimiza**, por lo que para maximizar hay que invertir el signo de la función objetivo. | Permite elegir **Maximize** o **Minimize** explícitamente. |\n",
        "| **Sintaxis** | Se trabaja con **listas/matrices** de coeficientes (más algebraico, menos intuitivo para principiantes). | Se trabaja con **objetos y restricciones declaradas** (más legible y didáctico). |\n",
        "| **Interpretación de resultados** | Retorna un objeto con atributos (ej. `res.x`, `res.fun`). | Las variables tienen valores asignados directamente (ej. `x.value()`). |\n",
        "\n"
      ]
    },
    {
      "cell_type": "markdown",
      "metadata": {
        "id": "FOtxNx70-WZU"
      },
      "source": [
        "-Actividad propuesta:\n",
        "Una panadería produce pan y medialunas,\n",
        "Un pan requiere 1 hora de horno y 0.5h de mano de obra, una medialuna requiere 2 horas de horno y 1h de mano de obra. Disponibilidad: 160 horas de horno, 90h de mano de obra. Ganancias: 50 pesos el pan, 80 pesos la medialuna.\n",
        "* Encontrar el beneficio máximo.\n",
        "* Formular otro problema de optimización para una panadería que produce pan y medialunas y resolverlo, incluyendo un gráfico del conjunto de soluciones factibles.\n"
      ]
    },
    {
      "cell_type": "markdown",
      "metadata": {
        "id": "CJ1SxeA-mrqV"
      },
      "source": [
        "Fuentes:\n",
        "\n",
        "Notas de álgebra teórico-prácticas: cátedra de Álgebra / Alicia Delia Fraquelli;Andrea Leonor Gache. - 1a ed. - Ciudad Autónoma de Buenos Aires: Universidad de Buenos Aires. Facultad de Ciencias Económicas, 2019.\n",
        "\n",
        "Hilpisch, Y. (2018). Python for Finance: Mastering Data-Driven Finance (2nd ed.). O’Reilly Media.\n",
        "\n",
        "James, G., Witten, D., Hastie, T., Tibshirani, R., & Taylor, J. (2023). An Introduction to Statistical Learning: with Applications in Python. Springer."
      ]
    }
  ],
  "metadata": {
    "colab": {
      "provenance": [],
      "toc_visible": true
    },
    "kernelspec": {
      "display_name": ".venv",
      "language": "python",
      "name": "python3"
    },
    "language_info": {
      "codemirror_mode": {
        "name": "ipython",
        "version": 3
      },
      "file_extension": ".py",
      "mimetype": "text/x-python",
      "name": "python",
      "nbconvert_exporter": "python",
      "pygments_lexer": "ipython3",
      "version": "3.12.3"
    }
  },
  "nbformat": 4,
  "nbformat_minor": 0
}
