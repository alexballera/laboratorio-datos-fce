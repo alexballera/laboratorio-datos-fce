{
 "cells": [
  {
   "cell_type": "markdown",
   "metadata": {},
   "source": [
    "# Actividad Propuesta - Semana 2"
   ]
  },
  {
   "cell_type": "markdown",
   "metadata": {},
   "source": [
    "## 1. Sistema de Ecuaciones\n",
    "\n",
    "El sistema de ecuaciones a resolver es:\n",
    "1. `2x - p + 20 = 0`\n",
    "2. `p + 2x² - 200 = 0`"
   ]
  },
  {
   "cell_type": "code",
   "execution_count": 1,
   "metadata": {},
   "outputs": [
    {
     "name": "stdout",
     "output_type": "stream",
     "text": [
      "Soluciones encontradas: [(-10, 0), (9, 38)]\n",
      "Soluciones económicamente válidas (x>0, p>0): [(9, 38)]\n",
      "El punto de equilibrio es x = 9 y p = 38\n"
     ]
    }
   ],
   "source": [
    "import sympy as sp\n",
    "\n",
    "# Definimos las variables simbólicas\n",
    "x, p = sp.symbols('x p')\n",
    "\n",
    "# Definimos las ecuaciones del sistema\n",
    "eq1 = sp.Eq(2*x - p + 20, 0)\n",
    "eq2 = sp.Eq(p + 2*x**2 - 200, 0)\n",
    "\n",
    "# Resolvemos el sistema\n",
    "soluciones = sp.solve((eq1, eq2), (x, p))\n",
    "\n",
    "print(f\"Soluciones encontradas: {soluciones}\")\n",
    "\n",
    "# Filtramos por soluciones económicamente válidas (x > 0 y p > 0)\n",
    "soluciones_validas = [sol for sol in soluciones if sol[0] > 0 and sol[1] > 0]\n",
    "\n",
    "if soluciones_validas:\n",
    "    print(f\"Soluciones económicamente válidas (x>0, p>0): {soluciones_validas}\")\n",
    "    # Tomamos la primera solución válida encontrada\n",
    "    x_eq = soluciones_validas[0][0]\n",
    "    p_eq = soluciones_validas[0][1]\n",
    "    print(f\"El punto de equilibrio es x = {x_eq} y p = {p_eq}\")\n",
    "else:\n",
    "    print(\"No se encontraron soluciones económicamente válidas.\")"
   ]
  },
  {
   "cell_type": "markdown",
   "metadata": {},
   "source": [
    "### Resultado\n",
    "\n",
    "El sistema tiene dos soluciones posibles. Al filtrar por valores económicamente relevantes (donde tanto `x` como `p` son positivos), encontramos una única solución válida:\n",
    "\n",
    "- **x = 9**\n",
    "- **p = 38**"
   ]
  }
 ],
 "metadata": {
  "kernelspec": {
   "display_name": ".venv",
   "language": "python",
   "name": "python3"
  },
  "language_info": {
   "codemirror_mode": {
    "name": "ipython",
    "version": 3
   },
   "file_extension": ".py",
   "mimetype": "text/x-python",
   "name": "python",
   "nbconvert_exporter": "python",
   "pygments_lexer": "ipython3",
   "version": "3.12.3"
  }
 },
 "nbformat": 4,
 "nbformat_minor": 2
}
