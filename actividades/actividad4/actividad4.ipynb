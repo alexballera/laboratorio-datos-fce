{
 "cells": [
  {
   "cell_type": "markdown",
   "id": "e1e389f3",
   "metadata": {},
   "source": [
    "# Actividad 4 - Programación Lineal"
   ]
  },
  {
   "cell_type": "markdown",
   "id": "f2de7fea",
   "metadata": {},
   "source": [
    "### 1. Importar librerías y cargar datos"
   ]
  },
  {
   "cell_type": "code",
   "execution_count": 1,
   "id": "1ff3765a",
   "metadata": {},
   "outputs": [],
   "source": [
    "# Importar las librerías necesarias\n",
    "import pandas as pd\n",
    "import pulp\n",
    "import matplotlib.pyplot as plt"
   ]
  },
  {
   "cell_type": "code",
   "execution_count": 2,
   "id": "2f58bdb7",
   "metadata": {},
   "outputs": [
    {
     "name": "stdout",
     "output_type": "stream",
     "text": [
      "Datos cargados exitosamente (20, 4)\n",
      "\n",
      "Primeras filas de los datos:\n"
     ]
    },
    {
     "data": {
      "application/vnd.microsoft.datawrangler.viewer.v0+json": {
       "columns": [
        {
         "name": "index",
         "rawType": "int64",
         "type": "integer"
        },
        {
         "name": "id",
         "rawType": "int64",
         "type": "integer"
        },
        {
         "name": "rol",
         "rawType": "object",
         "type": "string"
        },
        {
         "name": "salario",
         "rawType": "int64",
         "type": "integer"
        },
        {
         "name": "score",
         "rawType": "int64",
         "type": "integer"
        }
       ],
       "ref": "5d6e6d85-b2b7-47d4-9447-374bebe6fe46",
       "rows": [
        [
         "0",
         "1",
         "Backend",
         "80000",
         "75"
        ],
        [
         "1",
         "2",
         "Backend",
         "87000",
         "78"
        ],
        [
         "2",
         "3",
         "Backend",
         "82000",
         "70"
        ],
        [
         "3",
         "4",
         "Backend",
         "90000",
         "80"
        ],
        [
         "4",
         "5",
         "Backend",
         "86000",
         "77"
        ]
       ],
       "shape": {
        "columns": 4,
        "rows": 5
       }
      },
      "text/html": [
       "<div>\n",
       "<style scoped>\n",
       "    .dataframe tbody tr th:only-of-type {\n",
       "        vertical-align: middle;\n",
       "    }\n",
       "\n",
       "    .dataframe tbody tr th {\n",
       "        vertical-align: top;\n",
       "    }\n",
       "\n",
       "    .dataframe thead th {\n",
       "        text-align: right;\n",
       "    }\n",
       "</style>\n",
       "<table border=\"1\" class=\"dataframe\">\n",
       "  <thead>\n",
       "    <tr style=\"text-align: right;\">\n",
       "      <th></th>\n",
       "      <th>id</th>\n",
       "      <th>rol</th>\n",
       "      <th>salario</th>\n",
       "      <th>score</th>\n",
       "    </tr>\n",
       "  </thead>\n",
       "  <tbody>\n",
       "    <tr>\n",
       "      <th>0</th>\n",
       "      <td>1</td>\n",
       "      <td>Backend</td>\n",
       "      <td>80000</td>\n",
       "      <td>75</td>\n",
       "    </tr>\n",
       "    <tr>\n",
       "      <th>1</th>\n",
       "      <td>2</td>\n",
       "      <td>Backend</td>\n",
       "      <td>87000</td>\n",
       "      <td>78</td>\n",
       "    </tr>\n",
       "    <tr>\n",
       "      <th>2</th>\n",
       "      <td>3</td>\n",
       "      <td>Backend</td>\n",
       "      <td>82000</td>\n",
       "      <td>70</td>\n",
       "    </tr>\n",
       "    <tr>\n",
       "      <th>3</th>\n",
       "      <td>4</td>\n",
       "      <td>Backend</td>\n",
       "      <td>90000</td>\n",
       "      <td>80</td>\n",
       "    </tr>\n",
       "    <tr>\n",
       "      <th>4</th>\n",
       "      <td>5</td>\n",
       "      <td>Backend</td>\n",
       "      <td>86000</td>\n",
       "      <td>77</td>\n",
       "    </tr>\n",
       "  </tbody>\n",
       "</table>\n",
       "</div>"
      ],
      "text/plain": [
       "   id      rol  salario  score\n",
       "0   1  Backend    80000     75\n",
       "1   2  Backend    87000     78\n",
       "2   3  Backend    82000     70\n",
       "3   4  Backend    90000     80\n",
       "4   5  Backend    86000     77"
      ]
     },
     "execution_count": 2,
     "metadata": {},
     "output_type": "execute_result"
    }
   ],
   "source": [
    "# Cargar los datos del archivo CSV\n",
    "datos = pd.read_csv(\"actividad_semana_4.csv\")\n",
    "\n",
    "print(f\"Datos cargados exitosamente {datos.shape}\")\n",
    "\n",
    "# Mostrar las primeras filas\n",
    "print(\"\\nPrimeras filas de los datos:\")\n",
    "datos.head()"
   ]
  },
  {
   "cell_type": "markdown",
   "id": "7c513f58",
   "metadata": {},
   "source": [
    "## 2. Análisis de los datos\n",
    "\n",
    "Voy a explorar los datos para entender las características de cada área."
   ]
  },
  {
   "cell_type": "code",
   "execution_count": 3,
   "id": "95d4fa48",
   "metadata": {},
   "outputs": [
    {
     "name": "stdout",
     "output_type": "stream",
     "text": [
      "INFORMACION BASICA DE LOS DATOS\n",
      "Total de empleados: 20\n",
      "Columnas disponibles: ['id', 'rol', 'salario', 'score']\n",
      "\n",
      "Distribución por rol:\n",
      "rol\n",
      "Backend    10\n",
      "Data       10\n",
      "Name: count, dtype: int64\n"
     ]
    }
   ],
   "source": [
    "# Ver información general de los datos\n",
    "print(\"INFORMACION BASICA DE LOS DATOS\")\n",
    "print(\"Total de empleados:\", len(datos))\n",
    "print(\"Columnas disponibles:\", list(datos.columns))\n",
    "\n",
    "# Ver la distribución por rol\n",
    "print(\"\\nDistribución por rol:\")\n",
    "print(datos['rol'].value_counts())"
   ]
  },
  {
   "cell_type": "code",
   "execution_count": 4,
   "id": "fd1f1195",
   "metadata": {},
   "outputs": [
    {
     "name": "stdout",
     "output_type": "stream",
     "text": [
      "ESTADISTICAS POR AREA:\n",
      "         salario               score        \n",
      "            mean    min    max  mean min max\n",
      "rol                                         \n",
      "Backend  84900.0  80000  90000  76.2  70  81\n",
      "Data     78500.0  75000  82000  72.0  69  75\n",
      "\n",
      "PROMEDIOS PARA EL MODELO:\n",
      "Salario promedio Backend: $84900.00\n",
      "Salario promedio Data: $78500.00\n",
      "Score promedio Backend: 76.20\n",
      "Score promedio Data: 72.00\n"
     ]
    }
   ],
   "source": [
    "# Calcular estadísticas por área\n",
    "estadisticas_por_area = datos.groupby('rol').agg({\n",
    "    'salario': ['mean', 'min', 'max'],\n",
    "    'score': ['mean', 'min', 'max']\n",
    "})\n",
    "\n",
    "print(\"ESTADISTICAS POR AREA:\")\n",
    "print(estadisticas_por_area)\n",
    "\n",
    "# Calculamos los promedios que vamos a usar en el modelo\n",
    "salario_backend = datos[datos['rol'] == 'Backend']['salario'].mean()\n",
    "salario_data = datos[datos['rol'] == 'Data']['salario'].mean()\n",
    "score_backend = datos[datos['rol'] == 'Backend']['score'].mean()\n",
    "score_data = datos[datos['rol'] == 'Data']['score'].mean()\n",
    "\n",
    "print(\"\\nPROMEDIOS PARA EL MODELO:\")\n",
    "print(f\"Salario promedio Backend: ${salario_backend:.2f}\")\n",
    "print(f\"Salario promedio Data: ${salario_data:.2f}\")\n",
    "print(f\"Score promedio Backend: {score_backend:.2f}\")\n",
    "print(f\"Score promedio Data: {score_data:.2f}\")"
   ]
  },
  {
   "cell_type": "markdown",
   "id": "cc9da76b",
   "metadata": {},
   "source": [
    "## 3. Formulación del problema de programación lineal\n",
    "\n",
    "Ahora voy a formular el problema matemáticamente:\n",
    "\n",
    "**Variables de decisión:**\n",
    "- x1 = cantidad de empleados Backend a contratar\n",
    "- x2 = cantidad de empleados Data a contratar\n",
    "\n",
    "**Función objetivo (minimizar):**\n",
    "- Z = salario_backend * x1 + salario_data * x2\n",
    "\n",
    "**Restricciones:**\n",
    "- x1 + x2 >= 10 (al menos 10 empleados total)\n",
    "- x1 >= 3 (al menos 3 Backend)\n",
    "- x2 >= 3 (al menos 3 Data)\n",
    "- score_backend * x1 + score_data * x2 >= 600 (suma de scores al menos 600)"
   ]
  },
  {
   "cell_type": "code",
   "execution_count": 6,
   "id": "4953f18a",
   "metadata": {},
   "outputs": [
    {
     "name": "stdout",
     "output_type": "stream",
     "text": [
      "Problema formulado correctamente\n",
      "\n",
      "Resumen del problema:\n",
      "Minimizar: 84900.00 * Backend + 78500.00 * Data\n",
      "Sujeto a:\n",
      "- Backend + Data >= 10\n",
      "- Backend >= 3\n",
      "- Data >= 3\n",
      "- 76.20 * Backend + 72.00 * Data >= 600\n",
      "\n",
      "Problema:\n",
      " Contratacion_Empleados:\n",
      "MINIMIZE\n",
      "84900.0*Backend + 78500.0*Data + 0.0\n",
      "SUBJECT TO\n",
      "Minimo_empleados_total: Backend + Data >= 10\n",
      "\n",
      "Minimo_Backend: Backend >= 3\n",
      "\n",
      "Minimo_Data: Data >= 3\n",
      "\n",
      "Minimo_score_total: 76.2 Backend + 72 Data >= 600\n",
      "\n",
      "VARIABLES\n",
      "0 <= Backend Integer\n",
      "0 <= Data Integer\n",
      "\n"
     ]
    }
   ],
   "source": [
    "# Crear el problema de programación lineal\n",
    "problema = pulp.LpProblem(\"Contratacion_Empleados\", pulp.LpMinimize)\n",
    "\n",
    "# Definir las variables de decisión\n",
    "x1 = pulp.LpVariable(\"Backend\", lowBound=0, cat='Integer')  # Cantidad de empleados Backend\n",
    "x2 = pulp.LpVariable(\"Data\", lowBound=0, cat='Integer')     # Cantidad de empleados Data\n",
    "\n",
    "# Función objetivo: minimizar la nómina total\n",
    "problema += salario_backend * x1 + salario_data * x2, \"Nomina_Total\"\n",
    "\n",
    "# Agregar las restricciones\n",
    "problema += x1 + x2 >= 10, \"Minimo_empleados_total\"\n",
    "problema += x1 >= 3, \"Minimo_Backend\"\n",
    "problema += x2 >= 3, \"Minimo_Data\"\n",
    "problema += score_backend * x1 + score_data * x2 >= 600, \"Minimo_score_total\"\n",
    "\n",
    "print(\"Problema formulado correctamente\")\n",
    "print(\"\\nResumen del problema:\")\n",
    "print(f\"Minimizar: {salario_backend:.2f} * Backend + {salario_data:.2f} * Data\")\n",
    "print(\"Sujeto a:\")\n",
    "print(\"- Backend + Data >= 10\")\n",
    "print(\"- Backend >= 3\")\n",
    "print(\"- Data >= 3\")\n",
    "print(f\"- {score_backend:.2f} * Backend + {score_data:.2f} * Data >= 600\")\n",
    "print('\\nProblema:\\n', problema)"
   ]
  },
  {
   "cell_type": "markdown",
   "id": "3e373129",
   "metadata": {},
   "source": [
    "## 4. Resolver el problema\n",
    "\n",
    "Ahora resuelvo el problema usando PuLP."
   ]
  },
  {
   "cell_type": "code",
   "execution_count": 7,
   "id": "c4dc5875",
   "metadata": {},
   "outputs": [
    {
     "name": "stdout",
     "output_type": "stream",
     "text": [
      "Estado de la solución: Optimal\n",
      "\n",
      "SOLUCION OPTIMA ENCONTRADA:\n",
      "Empleados Backend a contratar: 3\n",
      "Empleados Data a contratar: 7\n",
      "Total de empleados: 10\n",
      "Nómina total mínima: $804,200.00\n",
      "\n",
      "VERIFICACION DE RESTRICCIONES:\n",
      "Total empleados: 10.0 >= 10: True\n",
      "Backend: 3.0 >= 3: True\n",
      "Data: 7.0 >= 3: True\n",
      "Score total: 732.60 >= 600: True\n"
     ]
    }
   ],
   "source": [
    "# Resolver el problema\n",
    "solver = pulp.PULP_CBC_CMD(msg=0)  # msg=0 para no mostrar información técnica\n",
    "problema.solve(solver)\n",
    "\n",
    "# Verificar si se encontró una solución\n",
    "print(\"Estado de la solución:\", pulp.LpStatus[problema.status])\n",
    "\n",
    "if problema.status == 1:  # Si se encontró solución óptima\n",
    "    print(\"\\nSOLUCION OPTIMA ENCONTRADA:\")\n",
    "    print(f\"Empleados Backend a contratar: {int(x1.varValue)}\")\n",
    "    print(f\"Empleados Data a contratar: {int(x2.varValue)}\")\n",
    "    print(f\"Total de empleados: {int(x1.varValue + x2.varValue)}\")\n",
    "    print(f\"Nómina total mínima: ${pulp.value(problema.objective):,.2f}\")\n",
    "    \n",
    "    # Verificar que se cumplen las restricciones\n",
    "    total_empleados = x1.varValue + x2.varValue\n",
    "    total_score = score_backend * x1.varValue + score_data * x2.varValue\n",
    "    \n",
    "    print(\"\\nVERIFICACION DE RESTRICCIONES:\")\n",
    "    print(f\"Total empleados: {total_empleados} >= 10: {total_empleados >= 10}\")\n",
    "    print(f\"Backend: {x1.varValue} >= 3: {x1.varValue >= 3}\")\n",
    "    print(f\"Data: {x2.varValue} >= 3: {x2.varValue >= 3}\")\n",
    "    print(f\"Score total: {total_score:.2f} >= 600: {total_score >= 600}\")\n",
    "else:\n",
    "    print(\"No se pudo encontrar una solución válida\")"
   ]
  },
  {
   "cell_type": "markdown",
   "id": "2f2afa0e",
   "metadata": {},
   "source": [
    "## 5. Visualización de resultados\n",
    "\n",
    "Voy a crear algunos gráficos para mostrar los resultados."
   ]
  },
  {
   "cell_type": "code",
   "execution_count": 8,
   "id": "4e100ce6",
   "metadata": {},
   "outputs": [
    {
     "data": {
      "image/png": "[encoded data removed]",
      "text/plain": [
       "<Figure size 1200x500 with 2 Axes>"
      ]
     },
     "metadata": {},
     "output_type": "display_data"
    },
    {
     "data": {
      "image/png": "[encoded data removed]",
      "text/plain": [
       "<Figure size 800x600 with 1 Axes>"
      ]
     },
     "metadata": {},
     "output_type": "display_data"
    }
   ],
   "source": [
    "# Crear gráficos de la solución\n",
    "if problema.status == 1:\n",
    "    # Calcular costos para los gráficos\n",
    "    costo_backend_total = salario_backend * x1.varValue\n",
    "    costo_data_total = salario_data * x2.varValue\n",
    "    \n",
    "    fig, (ax1, ax2) = plt.subplots(1, 2, figsize=(12, 5))\n",
    "    \n",
    "    # Gráfico 1: Distribución de empleados\n",
    "    areas = ['Backend', 'Data']\n",
    "    empleados = [x1.varValue, x2.varValue]\n",
    "    colores = ['lightblue', 'lightcoral']\n",
    "    \n",
    "    ax1.bar(areas, empleados, color=colores)\n",
    "    ax1.set_title('Empleados a Contratar por Área')\n",
    "    ax1.set_ylabel('Cantidad de Empleados')\n",
    "    for i, v in enumerate(empleados):\n",
    "        ax1.text(i, v + 0.1, str(int(v)), ha='center')\n",
    "    \n",
    "    # Gráfico 2: Distribución de costos\n",
    "    costos = [costo_backend_total, costo_data_total]\n",
    "    \n",
    "    ax2.bar(areas, costos, color=colores)\n",
    "    ax2.set_title('Costo de Nómina por Área')\n",
    "    ax2.set_ylabel('Costo ($)')\n",
    "    for i, v in enumerate(costos):\n",
    "        ax2.text(i, v + 1000, f'${v:,.0f}', ha='center')\n",
    "    \n",
    "    plt.tight_layout()\n",
    "    plt.show()\n",
    "    \n",
    "    # Gráfico circular de distribución de empleados\n",
    "    plt.figure(figsize=(8, 6))\n",
    "    plt.pie(empleados, labels=areas, colors=colores, autopct='%1.1f%%', startangle=90)\n",
    "    plt.title('Distribución Porcentual de Empleados a Contratar')\n",
    "    plt.show()"
   ]
  },
  {
   "cell_type": "markdown",
   "id": "f2967fa9",
   "metadata": {},
   "source": [
    "## 6. Conclusiones\n",
    "\n",
    "Basándome en los resultados obtenidos, puedo concluir lo siguiente:"
   ]
  },
  {
   "cell_type": "code",
   "execution_count": null,
   "id": "8b6ef6a9",
   "metadata": {},
   "outputs": [
    {
     "name": "stdout",
     "output_type": "stream",
     "text": [
      "CONCLUSIONES DEL ANALISIS:\n",
      "==================================================\n",
      "\n",
      "1. SOLUCION OPTIMA:\n",
      "   - Contratar 3 empleados Backend\n",
      "   - Contratar 7 empleados Data\n",
      "   - Nómina total mínima: $804,200.00\n",
      "\n",
      "2. CUMPLIMIENTO DE RESTRICCIONES:\n",
      "   - Total empleados: 10 (mínimo requerido: 10)\n",
      "   - Score total: 732.6 (mínimo requerido: 600)\n",
      "\n",
      "3. ANALISIS ECONOMICO:\n",
      "   - Costo promedio por empleado: $80,420.00\n",
      "   - Los empleados Data son más económicos ($78500.00 vs $84900.00)\n",
      "\n",
      "4. RECOMENDACION:\n",
      "   La empresa debe seguir esta estrategia de contratación para\n",
      "   minimizar costos mientras cumple con todos los requisitos.\n"
     ]
    }
   ],
   "source": [
    "# Resumen final de conclusiones\n",
    "if problema.status == 1:\n",
    "    print(\"CONCLUSIONES DEL ANALISIS:\")\n",
    "    print(\"=\" * 50)\n",
    "    \n",
    "    print(\"\\n1. SOLUCION OPTIMA:\")\n",
    "    print(f\"   - Contratar {int(x1.varValue)} empleados Backend\")\n",
    "    print(f\"   - Contratar {int(x2.varValue)} empleados Data\")\n",
    "    print(f\"   - Nómina total mínima: ${pulp.value(problema.objective):,.2f}\")\n",
    "    \n",
    "    print(\"\\n2. CUMPLIMIENTO DE RESTRICCIONES:\")\n",
    "    print(f\"   - Total empleados: {int(total_empleados)} (mínimo requerido: 10)\")\n",
    "    print(f\"   - Score total: {total_score:.1f} (mínimo requerido: 600)\")\n",
    "    \n",
    "    print(\"\\n3. ANALISIS ECONOMICO:\")\n",
    "    costo_promedio = pulp.value(problema.objective) / total_empleados\n",
    "    print(f\"   - Costo promedio por empleado: ${costo_promedio:,.2f}\")\n",
    "    \n",
    "    if salario_backend < salario_data:\n",
    "        print(f\"   - Los empleados Backend son más económicos (${salario_backend:.2f} vs ${salario_data:.2f})\")\n",
    "    else:\n",
    "        print(f\"   - Los empleados Data son más económicos (${salario_data:.2f} vs ${salario_backend:.2f})\")\n",
    "\n",
    "    print(\"\\n4. RECOMENDACION:\")\n",
    "    print(\"   La empresa debe seguir esta estrategia de contratación para\")\n",
    "    print(\"   minimizar costos mientras cumple con todos los requisitos.\")\n",
    "else:\n",
    "    print(\"No se pudo resolver el problema. Revisar las restricciones.\")"
   ]
  }
 ],
 "metadata": {
  "kernelspec": {
   "display_name": ".venv",
   "language": "python",
   "name": "python3"
  },
  "language_info": {
   "codemirror_mode": {
    "name": "ipython",
    "version": 3
   },
   "file_extension": ".py",
   "mimetype": "text/x-python",
   "name": "python",
   "nbconvert_exporter": "python",
   "pygments_lexer": "ipython3",
   "version": "3.12.3"
  }
 },
 "nbformat": 4,
 "nbformat_minor": 5
}
